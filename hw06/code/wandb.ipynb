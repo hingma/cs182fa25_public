{
  "cells": [
    {
      "cell_type": "markdown",
      "metadata": {
        "colab_type": "text",
        "id": "view-in-github"
      },
      "source": [
        "<a href=\"https://colab.research.google.com/github/hingma/cs182fa25_public/blob/main/hw06/code/wandb.ipynb\" target=\"_parent\"><img src=\"https://colab.research.google.com/assets/colab-badge.svg\" alt=\"Open In Colab\"/></a>"
      ]
    },
    {
      "cell_type": "markdown",
      "metadata": {
        "id": "avadp4Vp1n08"
      },
      "source": [
        "# Exploring Tooling with Weights and Biases\n",
        "Similar to tensorboard, weights and biases is an application that tracks all your training metrics, and performs visualizations for you. This tool allows you to cleanly sort, organize, and visualize your experiments. In this notebook, we will go through an example of how to use wandb.ai and have you practice.\n",
        "\n",
        "1. Make an account at https://wandb.ai/site\n",
        "\n",
        "2. pip install wandb\n",
        "\n",
        "3. wandb login\n",
        "\n",
        "4. After step 3, please paste your wandb API key\n"
      ]
    },
    {
      "cell_type": "code",
      "execution_count": 1,
      "metadata": {
        "colab": {
          "base_uri": "https://localhost:8080/"
        },
        "id": "vIfGTgfV1n09",
        "outputId": "4e3d8caf-9cc6-4134-cff5-9f1c67f65802"
      },
      "outputs": [
        {
          "name": "stdout",
          "output_type": "stream",
          "text": [
            "Cloning into 'cs182fa25_public'...\n",
            "remote: Enumerating objects: 1071, done.\u001b[K\n",
            "remote: Counting objects: 100% (74/74), done.\u001b[K\n",
            "remote: Compressing objects: 100% (42/42), done.\u001b[K\n",
            "remote: Total 1071 (delta 35), reused 50 (delta 19), pack-reused 997 (from 1)\u001b[K\n",
            "Receiving objects: 100% (1071/1071), 196.75 MiB | 13.78 MiB/s, done.\n",
            "Resolving deltas: 100% (460/460), done.\n",
            "Updating files: 100% (477/477), done.\n"
          ]
        }
      ],
      "source": [
        "!git clone https://github.com/hingma/cs182fa25_public.git"
      ]
    },
    {
      "cell_type": "code",
      "execution_count": 2,
      "metadata": {
        "colab": {
          "base_uri": "https://localhost:8080/"
        },
        "id": "WO2g-5Q61n09",
        "outputId": "ea828c31-1ff9-4589-d1fc-fdb9b3ba8a91"
      },
      "outputs": [
        {
          "name": "stdout",
          "output_type": "stream",
          "text": [
            "/content/cs182fa25_public/hw06/code\n"
          ]
        }
      ],
      "source": [
        "%cd cs182fa25_public/hw06/code/"
      ]
    },
    {
      "cell_type": "code",
      "execution_count": 3,
      "metadata": {
        "id": "oGwSYPvT1n09"
      },
      "outputs": [],
      "source": [
        "import torch\n",
        "import torch.nn as nn\n",
        "import torch.optim as optim\n",
        "import torchvision\n",
        "import torchvision.transforms as transforms\n",
        "import wandb\n",
        "from architectures import BasicConvNet, ResNet18, MLP"
      ]
    },
    {
      "cell_type": "markdown",
      "metadata": {
        "id": "GsEXtymd1n09"
      },
      "source": [
        "## Organizing wandb Projects\n",
        "\n",
        "With each run, you will want to have a set of parameters associated with it. For example, I want to be able to log different hyperparameters that I am using, so let's clearly list them below"
      ]
    },
    {
      "cell_type": "code",
      "execution_count": 4,
      "metadata": {
        "id": "8C2gMsqw1n0-"
      },
      "outputs": [],
      "source": [
        "project = 'CS182 WANDB.AI Practice Notebook'\n",
        "learning_rate = 0.01\n",
        "epochs = 2\n",
        "architecture ='CNN'\n",
        "dataset = 'CIFAR-10'\n",
        "batch_size = 64\n",
        "momentum = 0.9\n",
        "log_freq = 20\n",
        "print_freq = 200\n",
        "cuda = torch.cuda.is_available()\n",
        "device = torch.device(\"cuda\" if cuda else \"cpu\")"
      ]
    },
    {
      "cell_type": "markdown",
      "metadata": {
        "id": "Nhum-oLW1n0-"
      },
      "source": [
        "### Initializing the Run"
      ]
    },
    {
      "cell_type": "code",
      "execution_count": 5,
      "metadata": {
        "colab": {
          "base_uri": "https://localhost:8080/",
          "height": 729
        },
        "id": "aQ8e9Mzg1n0-",
        "outputId": "03754add-ee58-4502-e353-7f28d11fd49a"
      },
      "outputs": [
        {
          "name": "stderr",
          "output_type": "stream",
          "text": [
            "/usr/local/lib/python3.12/dist-packages/notebook/notebookapp.py:191: SyntaxWarning: invalid escape sequence '\\/'\n",
            "  | |_| | '_ \\/ _` / _` |  _/ -_)\n"
          ]
        },
        {
          "data": {
            "application/javascript": "\n        window._wandbApiKey = new Promise((resolve, reject) => {\n            function loadScript(url) {\n            return new Promise(function(resolve, reject) {\n                let newScript = document.createElement(\"script\");\n                newScript.onerror = reject;\n                newScript.onload = resolve;\n                document.body.appendChild(newScript);\n                newScript.src = url;\n            });\n            }\n            loadScript(\"https://cdn.jsdelivr.net/npm/postmate/build/postmate.min.js\").then(() => {\n            const iframe = document.createElement('iframe')\n            iframe.style.cssText = \"width:0;height:0;border:none\"\n            document.body.appendChild(iframe)\n            const handshake = new Postmate({\n                container: iframe,\n                url: 'https://wandb.ai/authorize'\n            });\n            const timeout = setTimeout(() => reject(\"Couldn't auto authenticate\"), 5000)\n            handshake.then(function(child) {\n                child.on('authorize', data => {\n                    clearTimeout(timeout)\n                    resolve(data)\n                });\n            });\n            })\n        });\n    ",
            "text/plain": [
              "<IPython.core.display.Javascript object>"
            ]
          },
          "metadata": {},
          "output_type": "display_data"
        },
        {
          "name": "stderr",
          "output_type": "stream",
          "text": [
            "\u001b[34m\u001b[1mwandb\u001b[0m: Logging into wandb.ai. (Learn how to deploy a W&B server locally: https://wandb.me/wandb-server)\n",
            "\u001b[34m\u001b[1mwandb\u001b[0m: You can find your API key in your browser here: https://wandb.ai/authorize?ref=models\n",
            "wandb: Paste an API key from your profile and hit enter:"
          ]
        },
        {
          "name": "stdout",
          "output_type": "stream",
          "text": [
            " ··········\n"
          ]
        },
        {
          "name": "stderr",
          "output_type": "stream",
          "text": [
            "\u001b[34m\u001b[1mwandb\u001b[0m: \u001b[33mWARNING\u001b[0m If you're specifying your api key in code, ensure this code is not shared publicly.\n",
            "\u001b[34m\u001b[1mwandb\u001b[0m: \u001b[33mWARNING\u001b[0m Consider setting the WANDB_API_KEY environment variable, or running `wandb login` from the command line.\n",
            "\u001b[34m\u001b[1mwandb\u001b[0m: No netrc file found, creating one.\n",
            "\u001b[34m\u001b[1mwandb\u001b[0m: Appending key for api.wandb.ai to your netrc file: /root/.netrc\n",
            "\u001b[34m\u001b[1mwandb\u001b[0m: Currently logged in as: \u001b[33mmoxintang\u001b[0m (\u001b[33mmoxintang-ucb\u001b[0m) to \u001b[32mhttps://api.wandb.ai\u001b[0m. Use \u001b[1m`wandb login --relogin`\u001b[0m to force relogin\n"
          ]
        },
        {
          "data": {
            "text/html": [],
            "text/plain": [
              "<IPython.core.display.HTML object>"
            ]
          },
          "metadata": {},
          "output_type": "display_data"
        },
        {
          "data": {
            "text/html": [
              "Tracking run with wandb version 0.22.2"
            ],
            "text/plain": [
              "<IPython.core.display.HTML object>"
            ]
          },
          "metadata": {},
          "output_type": "display_data"
        },
        {
          "data": {
            "text/html": [
              "Run data is saved locally in <code>/content/cs182fa25_public/hw06/code/wandb/run-20251018_055445-h9nahwom</code>"
            ],
            "text/plain": [
              "<IPython.core.display.HTML object>"
            ]
          },
          "metadata": {},
          "output_type": "display_data"
        },
        {
          "data": {
            "text/html": [
              "Syncing run <strong><a href='https://wandb.ai/moxintang-ucb/CS182%20WANDB.AI%20Practice%20Notebook/runs/h9nahwom' target=\"_blank\">robust-darkness-2</a></strong> to <a href='https://wandb.ai/moxintang-ucb/CS182%20WANDB.AI%20Practice%20Notebook' target=\"_blank\">Weights & Biases</a> (<a href='https://wandb.me/developer-guide' target=\"_blank\">docs</a>)<br>"
            ],
            "text/plain": [
              "<IPython.core.display.HTML object>"
            ]
          },
          "metadata": {},
          "output_type": "display_data"
        },
        {
          "data": {
            "text/html": [
              " View project at <a href='https://wandb.ai/moxintang-ucb/CS182%20WANDB.AI%20Practice%20Notebook' target=\"_blank\">https://wandb.ai/moxintang-ucb/CS182%20WANDB.AI%20Practice%20Notebook</a>"
            ],
            "text/plain": [
              "<IPython.core.display.HTML object>"
            ]
          },
          "metadata": {},
          "output_type": "display_data"
        },
        {
          "data": {
            "text/html": [
              " View run at <a href='https://wandb.ai/moxintang-ucb/CS182%20WANDB.AI%20Practice%20Notebook/runs/h9nahwom' target=\"_blank\">https://wandb.ai/moxintang-ucb/CS182%20WANDB.AI%20Practice%20Notebook/runs/h9nahwom</a>"
            ],
            "text/plain": [
              "<IPython.core.display.HTML object>"
            ]
          },
          "metadata": {},
          "output_type": "display_data"
        },
        {
          "data": {
            "text/html": [
              "<button onClick=\"this.nextSibling.style.display='block';this.style.display='none';\">Display W&B run</button><iframe src='https://wandb.ai/moxintang-ucb/CS182%20WANDB.AI%20Practice%20Notebook/runs/h9nahwom?jupyter=true' style='border:none;width:100%;height:420px;display:none;'></iframe>"
            ],
            "text/plain": [
              "<wandb.sdk.wandb_run.Run at 0x78082232a960>"
            ]
          },
          "execution_count": 5,
          "metadata": {},
          "output_type": "execute_result"
        }
      ],
      "source": [
        "wandb.init(\n",
        "    # set the wandb project where this run will be logged\n",
        "    project=project,\n",
        "\n",
        "    # track hyperparameters and run metadata\n",
        "    config={\n",
        "    \"learning_rate\": learning_rate,\n",
        "    \"architecture\": architecture,\n",
        "    \"dataset\": dataset,\n",
        "    \"epochs\": epochs,\n",
        "    \"batch_size\": batch_size,\n",
        "    \"momentum\": momentum\n",
        "    }\n",
        ")"
      ]
    },
    {
      "cell_type": "markdown",
      "metadata": {
        "id": "pH93P1zz1n0-"
      },
      "source": [
        "From here on, we have some standard CIFAR training definitions."
      ]
    },
    {
      "cell_type": "code",
      "execution_count": 6,
      "metadata": {
        "colab": {
          "base_uri": "https://localhost:8080/"
        },
        "id": "mcSnhy1u1n0-",
        "outputId": "971e99c8-837e-4361-eeff-161486f4b838"
      },
      "outputs": [
        {
          "name": "stderr",
          "output_type": "stream",
          "text": [
            "100%|██████████| 170M/170M [00:14<00:00, 12.1MB/s]\n"
          ]
        }
      ],
      "source": [
        "transform = transforms.Compose(\n",
        "    [transforms.ToTensor(),\n",
        "     transforms.Normalize((0.5, 0.5, 0.5), (0.5, 0.5, 0.5))])\n",
        "\n",
        "trainset = torchvision.datasets.CIFAR10(root='./data', train=True,\n",
        "                                        download=True, transform=transform)\n",
        "trainloader = torch.utils.data.DataLoader(trainset, batch_size=batch_size,\n",
        "                                          shuffle=True, num_workers=2)\n",
        "\n",
        "testset = torchvision.datasets.CIFAR10(root='./data', train=False,\n",
        "                                       download=True, transform=transform)\n",
        "testloader = torch.utils.data.DataLoader(testset, batch_size=batch_size,\n",
        "                                         shuffle=False, num_workers=2)"
      ]
    },
    {
      "cell_type": "code",
      "execution_count": 7,
      "metadata": {
        "id": "rZz29yQ21n0-"
      },
      "outputs": [],
      "source": [
        "class Net(nn.Module):\n",
        "    def __init__(self):\n",
        "        super().__init__()\n",
        "        self.conv1 = nn.Conv2d(3, 6, 5)\n",
        "        self.pool = nn.MaxPool2d(2, 2)\n",
        "        self.conv2 = nn.Conv2d(6, 16, 5)\n",
        "        self.fc1 = nn.Linear(16 * 5 * 5, 120)\n",
        "        self.fc2 = nn.Linear(120, 84)\n",
        "        self.fc3 = nn.Linear(84, 10)\n",
        "        self.relu = nn.ReLU()\n",
        "\n",
        "    def forward(self, x):\n",
        "        x = self.pool(self.relu(self.conv1(x)))\n",
        "        x = self.pool(self.relu(self.conv2(x)))\n",
        "        x = torch.flatten(x, 1) # flatten all dimensions except batch\n",
        "        x = self.relu(self.fc1(x))\n",
        "        x = self.relu(self.fc2(x))\n",
        "        x = self.fc3(x)\n",
        "        return x"
      ]
    },
    {
      "cell_type": "code",
      "execution_count": 8,
      "metadata": {
        "id": "jHGqWJFY1n0-"
      },
      "outputs": [],
      "source": [
        "net = Net()"
      ]
    },
    {
      "cell_type": "code",
      "execution_count": 9,
      "metadata": {
        "id": "UtT2SsxG1n0-"
      },
      "outputs": [],
      "source": [
        "criterion = nn.CrossEntropyLoss()\n",
        "optimizer = optim.SGD(net.parameters(), lr=learning_rate, momentum=momentum)"
      ]
    },
    {
      "cell_type": "markdown",
      "metadata": {
        "id": "gGdk60iK1n0-"
      },
      "source": [
        "### Training with wandb\n",
        "\n",
        "As you can see, similar to tensorboard, each gradient step we will want to log the accuracy and loss. See below for an example."
      ]
    },
    {
      "cell_type": "code",
      "execution_count": 10,
      "metadata": {
        "colab": {
          "base_uri": "https://localhost:8080/"
        },
        "id": "vMQP7B8i1n0-",
        "outputId": "065bb185-becf-45c6-9c0e-b0ff8c7946a7"
      },
      "outputs": [
        {
          "name": "stdout",
          "output_type": "stream",
          "text": [
            "[1,   200] loss: 2.25136 accuracy: 15.80469\n",
            "[1,   400] loss: 1.88940 accuracy: 30.85156\n",
            "[1,   600] loss: 1.64993 accuracy: 39.31250\n",
            "[2,   200] loss: 1.48792 accuracy: 45.63281\n",
            "[2,   400] loss: 1.44491 accuracy: 48.08594\n",
            "[2,   600] loss: 1.38183 accuracy: 50.07812\n"
          ]
        }
      ],
      "source": [
        "for epoch in range(epochs):  # loop over the dataset multiple times\n",
        "    running_loss = 0.0\n",
        "    running_acc = 0.0\n",
        "    for i, data in enumerate(trainloader, 0):\n",
        "        # get the inputs; data is a list of [inputs, labels]\n",
        "        inputs, labels = data\n",
        "\n",
        "        # zero the parameter gradients\n",
        "        optimizer.zero_grad()\n",
        "\n",
        "        # forward + backward + optimize\n",
        "        outputs = net(inputs)\n",
        "        loss = criterion(outputs, labels)\n",
        "        loss.backward()\n",
        "        optimizer.step()\n",
        "        accuracy = torch.mean((torch.argmax(outputs, dim=1) == labels).float()).item() * 100\n",
        "\n",
        "        # print statistics\n",
        "        running_acc += accuracy\n",
        "        running_loss += loss.item()\n",
        "        if i % log_freq == log_freq - 1:\n",
        "            wandb.log({'accuracy': accuracy, 'loss': loss.item()})\n",
        "\n",
        "        if i % print_freq == print_freq - 1:    # print every 200 mini-batches\n",
        "            print(f'[{epoch + 1}, {i + 1:5d}] loss: {running_loss / print_freq:.5f} accuracy: {running_acc/print_freq:.5f}')\n",
        "            running_loss = 0.0\n",
        "            running_acc = 0.0\n",
        "\n",
        "\n",
        "\n",
        "\n",
        "\n",
        "\n"
      ]
    },
    {
      "cell_type": "markdown",
      "metadata": {
        "id": "bxsA1VR91n0-"
      },
      "source": [
        "After we are done with this run, we will want to call\n",
        " `wandb.finish()`"
      ]
    },
    {
      "cell_type": "code",
      "execution_count": 11,
      "metadata": {
        "colab": {
          "base_uri": "https://localhost:8080/",
          "height": 356
        },
        "id": "yGOcRSyZ1n0-",
        "outputId": "af429d08-8e6f-4aa6-cab2-0d577a272e5c"
      },
      "outputs": [
        {
          "data": {
            "text/html": [],
            "text/plain": [
              "<IPython.core.display.HTML object>"
            ]
          },
          "metadata": {},
          "output_type": "display_data"
        },
        {
          "data": {
            "text/html": [
              "<br>    <style><br>        .wandb-row {<br>            display: flex;<br>            flex-direction: row;<br>            flex-wrap: wrap;<br>            justify-content: flex-start;<br>            width: 100%;<br>        }<br>        .wandb-col {<br>            display: flex;<br>            flex-direction: column;<br>            flex-basis: 100%;<br>            flex: 1;<br>            padding: 10px;<br>        }<br>    </style><br><div class=\"wandb-row\"><div class=\"wandb-col\"><h3>Run history:</h3><br/><table class=\"wandb\"><tr><td>accuracy</td><td>▁▁▁▄▃▂▅▃▄▅▆▅▇▅▅▅█▆▇█▆▅▇▇█▅█▇▆██▅▇█▇▇██▇▇</td></tr><tr><td>loss</td><td>███▇▇▆▆▆▅▅▄▅▄▄▄▃▄▃▄▃▄▂▃▃▂▂▄▃▄▂▃▃▃▁▁▃▃▁▃▂</td></tr></table><br/></div><div class=\"wandb-col\"><h3>Run summary:</h3><br/><table class=\"wandb\"><tr><td>accuracy</td><td>51.5625</td></tr><tr><td>loss</td><td>1.31215</td></tr></table><br/></div></div>"
            ],
            "text/plain": [
              "<IPython.core.display.HTML object>"
            ]
          },
          "metadata": {},
          "output_type": "display_data"
        },
        {
          "data": {
            "text/html": [
              " View run <strong style=\"color:#cdcd00\">robust-darkness-2</strong> at: <a href='https://wandb.ai/moxintang-ucb/CS182%20WANDB.AI%20Practice%20Notebook/runs/h9nahwom' target=\"_blank\">https://wandb.ai/moxintang-ucb/CS182%20WANDB.AI%20Practice%20Notebook/runs/h9nahwom</a><br> View project at: <a href='https://wandb.ai/moxintang-ucb/CS182%20WANDB.AI%20Practice%20Notebook' target=\"_blank\">https://wandb.ai/moxintang-ucb/CS182%20WANDB.AI%20Practice%20Notebook</a><br>Synced 5 W&B file(s), 0 media file(s), 0 artifact file(s) and 0 other file(s)"
            ],
            "text/plain": [
              "<IPython.core.display.HTML object>"
            ]
          },
          "metadata": {},
          "output_type": "display_data"
        },
        {
          "data": {
            "text/html": [
              "Find logs at: <code>./wandb/run-20251018_055445-h9nahwom/logs</code>"
            ],
            "text/plain": [
              "<IPython.core.display.HTML object>"
            ]
          },
          "metadata": {},
          "output_type": "display_data"
        }
      ],
      "source": [
        "wandb.finish()"
      ]
    },
    {
      "cell_type": "markdown",
      "metadata": {
        "id": "SvDCw7UV1n0-"
      },
      "source": [
        "## Your Task\n",
        "We will be once again building classifiers for the CIFAR-10. There are various architectures set up for you to use in the architectures.py file. Using wandb, please search through 10 different hyperparameter configurations. Examples of choices include: learning rate, batch size, architecture, optimization algorithm, etc. Please submit the hyperparameters that result in the highest accuracies for this classification task. Please then explore wandb for all the visualization that you may need. In addition, feel free to run as many epochs as you like."
      ]
    },
    {
      "cell_type": "code",
      "execution_count": 12,
      "metadata": {
        "id": "rQ_SCdgg1n0-"
      },
      "outputs": [],
      "source": [
        "def run(params):\n",
        "    # Extract parameters\n",
        "    learning_rate = params.get('learning_rate', 0.01)\n",
        "    architecture = params.get('architecture', 'BasicConvNet')\n",
        "    batch_size = params.get('batch_size', 64)\n",
        "    epochs = params.get('epochs', 5)\n",
        "    momentum = params.get('momentum', 0.9)\n",
        "    optimizer_name = params.get('optimizer', 'sgd')\n",
        "    weight_decay = params.get('weight_decay', 0)\n",
        "    log_freq = 20\n",
        "    print_freq = 200\n",
        "    resize_for_resnet = architecture == 'ResNet18'  # ResNet18 requires 224x224 images\n",
        "\n",
        "    # Set device\n",
        "    cuda = torch.cuda.is_available()\n",
        "    device = torch.device(\"cuda\" if cuda else \"cpu\")\n",
        "\n",
        "    # Initialize wandb\n",
        "    run = wandb.init(\n",
        "        project='CS182 CIFAR-10 Hyperparameter Search',\n",
        "        config=params,\n",
        "        reinit=True  # Allow multiple runs in the same process\n",
        "    )\n",
        "\n",
        "    # Create transformations for data\n",
        "    transform_list = [transforms.ToTensor()]\n",
        "    if resize_for_resnet:\n",
        "        transform_list.insert(0, transforms.Resize((224, 224)))\n",
        "    transform_list.append(transforms.Normalize((0.5, 0.5, 0.5), (0.5, 0.5, 0.5)))\n",
        "    transform = transforms.Compose(transform_list)\n",
        "\n",
        "    # Load datasets\n",
        "    trainset = torchvision.datasets.CIFAR10(root='./data', train=True,\n",
        "                                            download=True, transform=transform)\n",
        "    trainloader = torch.utils.data.DataLoader(trainset, batch_size=batch_size,\n",
        "                                              shuffle=True, num_workers=2)\n",
        "\n",
        "    testset = torchvision.datasets.CIFAR10(root='./data', train=False,\n",
        "                                           download=True, transform=transform)\n",
        "    testloader = torch.utils.data.DataLoader(testset, batch_size=batch_size,\n",
        "                                             shuffle=False, num_workers=2)\n",
        "\n",
        "    # Create the model based on architecture parameter\n",
        "    if architecture == 'BasicConvNet':\n",
        "        net = BasicConvNet()\n",
        "    elif architecture == 'ResNet18':\n",
        "        net = ResNet18()\n",
        "    elif architecture == 'MLP':\n",
        "        hidden_layers = params.get('hidden_layers', 7)\n",
        "        hidden_size = params.get('hidden_size', 2048)\n",
        "        net = MLP(num_layers=hidden_layers, size=hidden_size)\n",
        "    else:\n",
        "        raise ValueError(f\"Unknown architecture: {architecture}\")\n",
        "\n",
        "    # Move model to device\n",
        "    net = net.to(device)\n",
        "\n",
        "    # Define loss function\n",
        "    criterion = nn.CrossEntropyLoss()\n",
        "\n",
        "    # Choose optimizer based on parameter\n",
        "    if optimizer_name.lower() == 'sgd':\n",
        "        optimizer = optim.SGD(net.parameters(), lr=learning_rate,\n",
        "                             momentum=momentum, weight_decay=weight_decay)\n",
        "    elif optimizer_name.lower() == 'adam':\n",
        "        optimizer = optim.Adam(net.parameters(), lr=learning_rate,\n",
        "                             weight_decay=weight_decay)\n",
        "    elif optimizer_name.lower() == 'rmsprop':\n",
        "        optimizer = optim.RMSprop(net.parameters(), lr=learning_rate,\n",
        "                                weight_decay=weight_decay)\n",
        "    else:\n",
        "        raise ValueError(f\"Unknown optimizer: {optimizer_name}\")\n",
        "\n",
        "    # Optional: learning rate scheduler\n",
        "    scheduler = optim.lr_scheduler.ReduceLROnPlateau(\n",
        "        optimizer, 'min', patience=1, factor=0.5) if params.get('use_scheduler', False) else None\n",
        "\n",
        "    # Training loop\n",
        "    best_accuracy = 0.0\n",
        "    for epoch in range(epochs):\n",
        "        # Training phase\n",
        "        net.train()\n",
        "        running_loss = 0.0\n",
        "        running_acc = 0.0\n",
        "        for i, data in enumerate(trainloader):\n",
        "            # Get the inputs; data is a list of [inputs, labels]\n",
        "            inputs, labels = data\n",
        "            inputs, labels = inputs.to(device), labels.to(device)\n",
        "\n",
        "            # For MLP, we need to flatten the inputs\n",
        "            if architecture == 'MLP':\n",
        "                inputs = inputs.view(inputs.size(0), -1)\n",
        "\n",
        "            # Zero the parameter gradients\n",
        "            optimizer.zero_grad()\n",
        "\n",
        "            # Forward + backward + optimize\n",
        "            outputs = net(inputs)\n",
        "            loss = criterion(outputs, labels)\n",
        "            loss.backward()\n",
        "            optimizer.step()\n",
        "            accuracy = torch.mean((torch.argmax(outputs, dim=1) == labels).float()).item() * 100\n",
        "\n",
        "            # Log statistics\n",
        "            running_acc += accuracy\n",
        "            running_loss += loss.item()\n",
        "            if i % log_freq == log_freq - 1:\n",
        "                wandb.log({'train_accuracy': accuracy, 'train_loss': loss.item()})\n",
        "\n",
        "            if i % print_freq == print_freq - 1:\n",
        "                print(f'[{epoch + 1}, {i + 1:5d}] loss: {running_loss / print_freq:.5f} accuracy: {running_acc/print_freq:.5f}')\n",
        "                running_loss = 0.0\n",
        "                running_acc = 0.0\n",
        "\n",
        "        # Evaluation phase\n",
        "        net.eval()\n",
        "        test_loss = 0.0\n",
        "        correct = 0\n",
        "        total = 0\n",
        "        with torch.no_grad():\n",
        "            for data in testloader:\n",
        "                images, labels = data\n",
        "                images, labels = images.to(device), labels.to(device)\n",
        "\n",
        "                # For MLP, we need to flatten the inputs\n",
        "                if architecture == 'MLP':\n",
        "                    images = images.view(images.size(0), -1)\n",
        "\n",
        "                outputs = net(images)\n",
        "                loss = criterion(outputs, labels)\n",
        "                test_loss += loss.item()\n",
        "\n",
        "                _, predicted = torch.max(outputs.data, 1)\n",
        "                total += labels.size(0)\n",
        "                correct += (predicted == labels).sum().item()\n",
        "\n",
        "        epoch_test_accuracy = 100 * correct / total\n",
        "        epoch_test_loss = test_loss / len(testloader)\n",
        "\n",
        "        print(f'Epoch {epoch+1} Test Accuracy: {epoch_test_accuracy:.2f}%')\n",
        "\n",
        "        wandb.log({\n",
        "            'epoch': epoch + 1,\n",
        "            'test_accuracy': epoch_test_accuracy,\n",
        "            'test_loss': epoch_test_loss\n",
        "        })\n",
        "\n",
        "        # Update best accuracy\n",
        "        if epoch_test_accuracy > best_accuracy:\n",
        "            best_accuracy = epoch_test_accuracy\n",
        "\n",
        "        # Update learning rate if using scheduler\n",
        "        if scheduler is not None:\n",
        "            scheduler.step(epoch_test_loss)\n",
        "\n",
        "    # Log best accuracy as summary metric\n",
        "    wandb.run.summary['best_accuracy'] = best_accuracy\n",
        "\n",
        "    # Finish the wandb run\n",
        "    wandb.finish()\n",
        "\n",
        "    return best_accuracy"
      ]
    },
    {
      "cell_type": "code",
      "execution_count": 13,
      "metadata": {
        "id": "xZiklvaC1n0-"
      },
      "outputs": [],
      "source": [
        "# Define hyperparameter configurations to try\n",
        "hyperparameter_configs = [\n",
        "    {'architecture': 'BasicConvNet', 'learning_rate': 0.01, 'batch_size': 64, 'epochs': 10, 'optimizer': 'sgd', 'momentum': 0.9},\n",
        "    {'architecture': 'BasicConvNet', 'learning_rate': 0.001, 'batch_size': 128, 'epochs': 10, 'optimizer': 'adam'},\n",
        "    {'architecture': 'ResNet18', 'learning_rate': 0.01, 'batch_size': 64, 'epochs': 10, 'optimizer': 'sgd', 'momentum': 0.9},\n",
        "    {'architecture': 'ResNet18', 'learning_rate': 0.001, 'batch_size': 64, 'epochs': 10, 'optimizer': 'adam'},\n",
        "    {'architecture': 'MLP', 'learning_rate': 0.01, 'batch_size': 64, 'epochs': 10, 'optimizer': 'sgd', 'momentum': 0.9, 'hidden_layers': 5, 'hidden_size': 1024},\n",
        "    {'architecture': 'MLP', 'learning_rate': 0.001, 'batch_size': 128, 'epochs': 10, 'optimizer': 'adam', 'hidden_layers': 3, 'hidden_size': 2048},\n",
        "    {'architecture': 'BasicConvNet', 'learning_rate': 0.005, 'batch_size': 32, 'epochs': 10, 'optimizer': 'rmsprop'},\n",
        "    {'architecture': 'ResNet18', 'learning_rate': 0.0005, 'batch_size': 32, 'epochs': 10, 'optimizer': 'adam', 'weight_decay': 1e-4},\n",
        "    {'architecture': 'BasicConvNet', 'learning_rate': 0.01, 'batch_size': 64, 'epochs': 10, 'optimizer': 'sgd', 'momentum': 0.9, 'weight_decay': 1e-4, 'use_scheduler': True},\n",
        "    {'architecture': 'ResNet18', 'learning_rate': 0.01, 'batch_size': 128, 'epochs': 10, 'optimizer': 'sgd', 'momentum': 0.95, 'weight_decay': 5e-4, 'use_scheduler': True}\n",
        "]\n"
      ]
    },
    {
      "cell_type": "code",
      "execution_count": 14,
      "metadata": {
        "colab": {
          "base_uri": "https://localhost:8080/",
          "height": 1000
        },
        "id": "vsVMDuRc1n0-",
        "outputId": "c0c01be3-88e7-4219-af50-a2f2771ac37d"
      },
      "outputs": [
        {
          "name": "stdout",
          "output_type": "stream",
          "text": [
            "Running configuration 1/10: {'architecture': 'BasicConvNet', 'learning_rate': 0.01, 'batch_size': 64, 'epochs': 10, 'optimizer': 'sgd', 'momentum': 0.9}\n"
          ]
        },
        {
          "name": "stderr",
          "output_type": "stream",
          "text": [
            "\u001b[34m\u001b[1mwandb\u001b[0m: \u001b[33mWARNING\u001b[0m Using a boolean value for 'reinit' is deprecated. Use 'return_previous' or 'finish_previous' instead.\n"
          ]
        },
        {
          "data": {
            "text/html": [],
            "text/plain": [
              "<IPython.core.display.HTML object>"
            ]
          },
          "metadata": {},
          "output_type": "display_data"
        },
        {
          "data": {
            "text/html": [
              "Tracking run with wandb version 0.22.2"
            ],
            "text/plain": [
              "<IPython.core.display.HTML object>"
            ]
          },
          "metadata": {},
          "output_type": "display_data"
        },
        {
          "data": {
            "text/html": [
              "Run data is saved locally in <code>/content/cs182fa25_public/hw06/code/wandb/run-20251018_055524-49684k02</code>"
            ],
            "text/plain": [
              "<IPython.core.display.HTML object>"
            ]
          },
          "metadata": {},
          "output_type": "display_data"
        },
        {
          "data": {
            "text/html": [
              "Syncing run <strong><a href='https://wandb.ai/moxintang-ucb/CS182%20CIFAR-10%20Hyperparameter%20Search/runs/49684k02' target=\"_blank\">hopeful-spaceship-2</a></strong> to <a href='https://wandb.ai/moxintang-ucb/CS182%20CIFAR-10%20Hyperparameter%20Search' target=\"_blank\">Weights & Biases</a> (<a href='https://wandb.me/developer-guide' target=\"_blank\">docs</a>)<br>"
            ],
            "text/plain": [
              "<IPython.core.display.HTML object>"
            ]
          },
          "metadata": {},
          "output_type": "display_data"
        },
        {
          "data": {
            "text/html": [
              " View project at <a href='https://wandb.ai/moxintang-ucb/CS182%20CIFAR-10%20Hyperparameter%20Search' target=\"_blank\">https://wandb.ai/moxintang-ucb/CS182%20CIFAR-10%20Hyperparameter%20Search</a>"
            ],
            "text/plain": [
              "<IPython.core.display.HTML object>"
            ]
          },
          "metadata": {},
          "output_type": "display_data"
        },
        {
          "data": {
            "text/html": [
              " View run at <a href='https://wandb.ai/moxintang-ucb/CS182%20CIFAR-10%20Hyperparameter%20Search/runs/49684k02' target=\"_blank\">https://wandb.ai/moxintang-ucb/CS182%20CIFAR-10%20Hyperparameter%20Search/runs/49684k02</a>"
            ],
            "text/plain": [
              "<IPython.core.display.HTML object>"
            ]
          },
          "metadata": {},
          "output_type": "display_data"
        },
        {
          "name": "stdout",
          "output_type": "stream",
          "text": [
            "[1,   200] loss: 2.21749 accuracy: 16.75781\n",
            "[1,   400] loss: 1.84322 accuracy: 31.19531\n",
            "[1,   600] loss: 1.66043 accuracy: 38.53906\n",
            "Epoch 1 Test Accuracy: 45.09%\n",
            "[2,   200] loss: 1.44783 accuracy: 47.18750\n",
            "[2,   400] loss: 1.38988 accuracy: 48.96875\n",
            "[2,   600] loss: 1.34219 accuracy: 51.95312\n",
            "Epoch 2 Test Accuracy: 52.46%\n",
            "[3,   200] loss: 1.26201 accuracy: 54.89062\n",
            "[3,   400] loss: 1.24554 accuracy: 55.42188\n",
            "[3,   600] loss: 1.21554 accuracy: 56.42969\n",
            "Epoch 3 Test Accuracy: 57.78%\n",
            "[4,   200] loss: 1.14053 accuracy: 59.58594\n",
            "[4,   400] loss: 1.12471 accuracy: 59.62500\n",
            "[4,   600] loss: 1.13176 accuracy: 59.89844\n",
            "Epoch 4 Test Accuracy: 60.25%\n",
            "[5,   200] loss: 1.05287 accuracy: 62.19531\n",
            "[5,   400] loss: 1.05480 accuracy: 62.90625\n",
            "[5,   600] loss: 1.05615 accuracy: 62.71875\n",
            "Epoch 5 Test Accuracy: 59.77%\n",
            "[6,   200] loss: 0.98103 accuracy: 65.53125\n",
            "[6,   400] loss: 0.98685 accuracy: 64.64844\n",
            "[6,   600] loss: 1.01185 accuracy: 63.85156\n",
            "Epoch 6 Test Accuracy: 61.64%\n",
            "[7,   200] loss: 0.92874 accuracy: 66.92969\n",
            "[7,   400] loss: 0.94085 accuracy: 66.56250\n",
            "[7,   600] loss: 0.96324 accuracy: 65.65625\n",
            "Epoch 7 Test Accuracy: 61.47%\n",
            "[8,   200] loss: 0.88524 accuracy: 68.47656\n",
            "[8,   400] loss: 0.89770 accuracy: 68.58594\n",
            "[8,   600] loss: 0.90395 accuracy: 68.01562\n",
            "Epoch 8 Test Accuracy: 61.92%\n",
            "[9,   200] loss: 0.84239 accuracy: 70.25781\n",
            "[9,   400] loss: 0.84323 accuracy: 69.97656\n",
            "[9,   600] loss: 0.86923 accuracy: 69.24219\n",
            "Epoch 9 Test Accuracy: 63.03%\n",
            "[10,   200] loss: 0.78099 accuracy: 72.03125\n",
            "[10,   400] loss: 0.80609 accuracy: 71.22656\n",
            "[10,   600] loss: 0.84573 accuracy: 70.39844\n",
            "Epoch 10 Test Accuracy: 63.13%\n"
          ]
        },
        {
          "data": {
            "text/html": [],
            "text/plain": [
              "<IPython.core.display.HTML object>"
            ]
          },
          "metadata": {},
          "output_type": "display_data"
        },
        {
          "data": {
            "text/html": [
              "<br>    <style><br>        .wandb-row {<br>            display: flex;<br>            flex-direction: row;<br>            flex-wrap: wrap;<br>            justify-content: flex-start;<br>            width: 100%;<br>        }<br>        .wandb-col {<br>            display: flex;<br>            flex-direction: column;<br>            flex-basis: 100%;<br>            flex: 1;<br>            padding: 10px;<br>        }<br>    </style><br><div class=\"wandb-row\"><div class=\"wandb-col\"><h3>Run history:</h3><br/><table class=\"wandb\"><tr><td>epoch</td><td>▁▂▃▃▄▅▆▆▇█</td></tr><tr><td>test_accuracy</td><td>▁▄▆▇▇▇▇███</td></tr><tr><td>test_loss</td><td>█▅▃▂▂▁▁▂▁▁</td></tr><tr><td>train_accuracy</td><td>▁▂▂▃▄▅▂▅▄▄▅▃▄▆▇▅▇▇▇▆▇▆▅▇▇▇▇▆▇▇█▇▆▆█▇▆▇▇▆</td></tr><tr><td>train_loss</td><td>█▇▄▅▄▄▄▄▂▄▃▃▃▂▃▃▃▃▃▃▂▁▃▃▃▂▂▂▂▁▁▁▁▁▂▂▃▁▃▂</td></tr></table><br/></div><div class=\"wandb-col\"><h3>Run summary:</h3><br/><table class=\"wandb\"><tr><td>best_accuracy</td><td>63.13</td></tr><tr><td>epoch</td><td>10</td></tr><tr><td>test_accuracy</td><td>63.13</td></tr><tr><td>test_loss</td><td>1.08336</td></tr><tr><td>train_accuracy</td><td>62.5</td></tr><tr><td>train_loss</td><td>0.96215</td></tr></table><br/></div></div>"
            ],
            "text/plain": [
              "<IPython.core.display.HTML object>"
            ]
          },
          "metadata": {},
          "output_type": "display_data"
        },
        {
          "data": {
            "text/html": [
              " View run <strong style=\"color:#cdcd00\">hopeful-spaceship-2</strong> at: <a href='https://wandb.ai/moxintang-ucb/CS182%20CIFAR-10%20Hyperparameter%20Search/runs/49684k02' target=\"_blank\">https://wandb.ai/moxintang-ucb/CS182%20CIFAR-10%20Hyperparameter%20Search/runs/49684k02</a><br> View project at: <a href='https://wandb.ai/moxintang-ucb/CS182%20CIFAR-10%20Hyperparameter%20Search' target=\"_blank\">https://wandb.ai/moxintang-ucb/CS182%20CIFAR-10%20Hyperparameter%20Search</a><br>Synced 5 W&B file(s), 0 media file(s), 0 artifact file(s) and 0 other file(s)"
            ],
            "text/plain": [
              "<IPython.core.display.HTML object>"
            ]
          },
          "metadata": {},
          "output_type": "display_data"
        },
        {
          "data": {
            "text/html": [
              "Find logs at: <code>./wandb/run-20251018_055524-49684k02/logs</code>"
            ],
            "text/plain": [
              "<IPython.core.display.HTML object>"
            ]
          },
          "metadata": {},
          "output_type": "display_data"
        },
        {
          "name": "stdout",
          "output_type": "stream",
          "text": [
            "Configuration 1 finished with best accuracy: 63.13%\n",
            "--------------------------------------------------\n",
            "Running configuration 2/10: {'architecture': 'BasicConvNet', 'learning_rate': 0.001, 'batch_size': 128, 'epochs': 10, 'optimizer': 'adam'}\n"
          ]
        },
        {
          "data": {
            "text/html": [],
            "text/plain": [
              "<IPython.core.display.HTML object>"
            ]
          },
          "metadata": {},
          "output_type": "display_data"
        },
        {
          "data": {
            "text/html": [
              "Tracking run with wandb version 0.22.2"
            ],
            "text/plain": [
              "<IPython.core.display.HTML object>"
            ]
          },
          "metadata": {},
          "output_type": "display_data"
        },
        {
          "data": {
            "text/html": [
              "Run data is saved locally in <code>/content/cs182fa25_public/hw06/code/wandb/run-20251018_055651-7kyoay88</code>"
            ],
            "text/plain": [
              "<IPython.core.display.HTML object>"
            ]
          },
          "metadata": {},
          "output_type": "display_data"
        },
        {
          "data": {
            "text/html": [
              "Syncing run <strong><a href='https://wandb.ai/moxintang-ucb/CS182%20CIFAR-10%20Hyperparameter%20Search/runs/7kyoay88' target=\"_blank\">fancy-surf-3</a></strong> to <a href='https://wandb.ai/moxintang-ucb/CS182%20CIFAR-10%20Hyperparameter%20Search' target=\"_blank\">Weights & Biases</a> (<a href='https://wandb.me/developer-guide' target=\"_blank\">docs</a>)<br>"
            ],
            "text/plain": [
              "<IPython.core.display.HTML object>"
            ]
          },
          "metadata": {},
          "output_type": "display_data"
        },
        {
          "data": {
            "text/html": [
              " View project at <a href='https://wandb.ai/moxintang-ucb/CS182%20CIFAR-10%20Hyperparameter%20Search' target=\"_blank\">https://wandb.ai/moxintang-ucb/CS182%20CIFAR-10%20Hyperparameter%20Search</a>"
            ],
            "text/plain": [
              "<IPython.core.display.HTML object>"
            ]
          },
          "metadata": {},
          "output_type": "display_data"
        },
        {
          "data": {
            "text/html": [
              " View run at <a href='https://wandb.ai/moxintang-ucb/CS182%20CIFAR-10%20Hyperparameter%20Search/runs/7kyoay88' target=\"_blank\">https://wandb.ai/moxintang-ucb/CS182%20CIFAR-10%20Hyperparameter%20Search/runs/7kyoay88</a>"
            ],
            "text/plain": [
              "<IPython.core.display.HTML object>"
            ]
          },
          "metadata": {},
          "output_type": "display_data"
        },
        {
          "name": "stdout",
          "output_type": "stream",
          "text": [
            "[1,   200] loss: 1.86723 accuracy: 31.78125\n",
            "Epoch 1 Test Accuracy: 45.37%\n",
            "[2,   200] loss: 1.50027 accuracy: 45.61328\n",
            "Epoch 2 Test Accuracy: 48.61%\n",
            "[3,   200] loss: 1.37613 accuracy: 50.08203\n",
            "Epoch 3 Test Accuracy: 51.96%\n",
            "[4,   200] loss: 1.28771 accuracy: 53.30859\n",
            "Epoch 4 Test Accuracy: 53.83%\n",
            "[5,   200] loss: 1.22682 accuracy: 55.85156\n",
            "Epoch 5 Test Accuracy: 54.65%\n",
            "[6,   200] loss: 1.18192 accuracy: 57.79688\n",
            "Epoch 6 Test Accuracy: 56.65%\n",
            "[7,   200] loss: 1.12857 accuracy: 59.76953\n",
            "Epoch 7 Test Accuracy: 57.73%\n",
            "[8,   200] loss: 1.08711 accuracy: 60.89844\n",
            "Epoch 8 Test Accuracy: 58.74%\n",
            "[9,   200] loss: 1.06589 accuracy: 62.02734\n",
            "Epoch 9 Test Accuracy: 58.95%\n",
            "[10,   200] loss: 1.02536 accuracy: 63.56641\n",
            "Epoch 10 Test Accuracy: 59.67%\n"
          ]
        },
        {
          "data": {
            "text/html": [],
            "text/plain": [
              "<IPython.core.display.HTML object>"
            ]
          },
          "metadata": {},
          "output_type": "display_data"
        },
        {
          "data": {
            "text/html": [
              "<br>    <style><br>        .wandb-row {<br>            display: flex;<br>            flex-direction: row;<br>            flex-wrap: wrap;<br>            justify-content: flex-start;<br>            width: 100%;<br>        }<br>        .wandb-col {<br>            display: flex;<br>            flex-direction: column;<br>            flex-basis: 100%;<br>            flex: 1;<br>            padding: 10px;<br>        }<br>    </style><br><div class=\"wandb-row\"><div class=\"wandb-col\"><h3>Run history:</h3><br/><table class=\"wandb\"><tr><td>epoch</td><td>▁▂▃▃▄▅▆▆▇█</td></tr><tr><td>test_accuracy</td><td>▁▃▄▅▆▇▇███</td></tr><tr><td>test_loss</td><td>█▆▅▃▃▂▂▁▁▁</td></tr><tr><td>train_accuracy</td><td>▁▃▃▂▃▅▄▅▅▅▆▆▅▅▆▅▅▅▆▆▆▆▇▇▆▇▇▇█▆▇▆▇███▇▇▇█</td></tr><tr><td>train_loss</td><td>█▆▆▇▅▄▅▄▅▄▄▆▅▃▄▃▅▃▃▄▃▂▃▄▃▂▄▂▃▁▂▂▁▁▁▁▂▂▃▁</td></tr></table><br/></div><div class=\"wandb-col\"><h3>Run summary:</h3><br/><table class=\"wandb\"><tr><td>best_accuracy</td><td>59.67</td></tr><tr><td>epoch</td><td>10</td></tr><tr><td>test_accuracy</td><td>59.67</td></tr><tr><td>test_loss</td><td>1.14061</td></tr><tr><td>train_accuracy</td><td>71.875</td></tr><tr><td>train_loss</td><td>0.97077</td></tr></table><br/></div></div>"
            ],
            "text/plain": [
              "<IPython.core.display.HTML object>"
            ]
          },
          "metadata": {},
          "output_type": "display_data"
        },
        {
          "data": {
            "text/html": [
              " View run <strong style=\"color:#cdcd00\">fancy-surf-3</strong> at: <a href='https://wandb.ai/moxintang-ucb/CS182%20CIFAR-10%20Hyperparameter%20Search/runs/7kyoay88' target=\"_blank\">https://wandb.ai/moxintang-ucb/CS182%20CIFAR-10%20Hyperparameter%20Search/runs/7kyoay88</a><br> View project at: <a href='https://wandb.ai/moxintang-ucb/CS182%20CIFAR-10%20Hyperparameter%20Search' target=\"_blank\">https://wandb.ai/moxintang-ucb/CS182%20CIFAR-10%20Hyperparameter%20Search</a><br>Synced 5 W&B file(s), 0 media file(s), 0 artifact file(s) and 0 other file(s)"
            ],
            "text/plain": [
              "<IPython.core.display.HTML object>"
            ]
          },
          "metadata": {},
          "output_type": "display_data"
        },
        {
          "data": {
            "text/html": [
              "Find logs at: <code>./wandb/run-20251018_055651-7kyoay88/logs</code>"
            ],
            "text/plain": [
              "<IPython.core.display.HTML object>"
            ]
          },
          "metadata": {},
          "output_type": "display_data"
        },
        {
          "name": "stdout",
          "output_type": "stream",
          "text": [
            "Configuration 2 finished with best accuracy: 59.67%\n",
            "--------------------------------------------------\n",
            "Running configuration 3/10: {'architecture': 'ResNet18', 'learning_rate': 0.01, 'batch_size': 64, 'epochs': 10, 'optimizer': 'sgd', 'momentum': 0.9}\n"
          ]
        },
        {
          "data": {
            "text/html": [],
            "text/plain": [
              "<IPython.core.display.HTML object>"
            ]
          },
          "metadata": {},
          "output_type": "display_data"
        },
        {
          "data": {
            "text/html": [
              "Tracking run with wandb version 0.22.2"
            ],
            "text/plain": [
              "<IPython.core.display.HTML object>"
            ]
          },
          "metadata": {},
          "output_type": "display_data"
        },
        {
          "data": {
            "text/html": [
              "Run data is saved locally in <code>/content/cs182fa25_public/hw06/code/wandb/run-20251018_055811-r8uqdxi7</code>"
            ],
            "text/plain": [
              "<IPython.core.display.HTML object>"
            ]
          },
          "metadata": {},
          "output_type": "display_data"
        },
        {
          "data": {
            "text/html": [
              "Syncing run <strong><a href='https://wandb.ai/moxintang-ucb/CS182%20CIFAR-10%20Hyperparameter%20Search/runs/r8uqdxi7' target=\"_blank\">misty-serenity-4</a></strong> to <a href='https://wandb.ai/moxintang-ucb/CS182%20CIFAR-10%20Hyperparameter%20Search' target=\"_blank\">Weights & Biases</a> (<a href='https://wandb.me/developer-guide' target=\"_blank\">docs</a>)<br>"
            ],
            "text/plain": [
              "<IPython.core.display.HTML object>"
            ]
          },
          "metadata": {},
          "output_type": "display_data"
        },
        {
          "data": {
            "text/html": [
              " View project at <a href='https://wandb.ai/moxintang-ucb/CS182%20CIFAR-10%20Hyperparameter%20Search' target=\"_blank\">https://wandb.ai/moxintang-ucb/CS182%20CIFAR-10%20Hyperparameter%20Search</a>"
            ],
            "text/plain": [
              "<IPython.core.display.HTML object>"
            ]
          },
          "metadata": {},
          "output_type": "display_data"
        },
        {
          "data": {
            "text/html": [
              " View run at <a href='https://wandb.ai/moxintang-ucb/CS182%20CIFAR-10%20Hyperparameter%20Search/runs/r8uqdxi7' target=\"_blank\">https://wandb.ai/moxintang-ucb/CS182%20CIFAR-10%20Hyperparameter%20Search/runs/r8uqdxi7</a>"
            ],
            "text/plain": [
              "<IPython.core.display.HTML object>"
            ]
          },
          "metadata": {},
          "output_type": "display_data"
        },
        {
          "name": "stdout",
          "output_type": "stream",
          "text": [
            "[1,   200] loss: 1.82471 accuracy: 32.15625\n",
            "[1,   400] loss: 1.48193 accuracy: 45.82812\n",
            "[1,   600] loss: 1.26819 accuracy: 54.50000\n",
            "Epoch 1 Test Accuracy: 59.37%\n",
            "[2,   200] loss: 0.97097 accuracy: 65.03906\n",
            "[2,   400] loss: 0.89907 accuracy: 67.82812\n",
            "[2,   600] loss: 0.85237 accuracy: 70.26562\n",
            "Epoch 2 Test Accuracy: 59.65%\n",
            "[3,   200] loss: 0.64145 accuracy: 77.36719\n",
            "[3,   400] loss: 0.63822 accuracy: 78.00000\n",
            "[3,   600] loss: 0.62007 accuracy: 78.58594\n",
            "Epoch 3 Test Accuracy: 72.66%\n",
            "[4,   200] loss: 0.44498 accuracy: 84.14844\n",
            "[4,   400] loss: 0.46976 accuracy: 83.60156\n",
            "[4,   600] loss: 0.47346 accuracy: 83.28125\n",
            "Epoch 4 Test Accuracy: 74.83%\n",
            "[5,   200] loss: 0.29772 accuracy: 89.51562\n",
            "[5,   400] loss: 0.33950 accuracy: 88.36719\n",
            "[5,   600] loss: 0.36887 accuracy: 86.98438\n",
            "Epoch 5 Test Accuracy: 76.18%\n",
            "[6,   200] loss: 0.19345 accuracy: 93.48438\n",
            "[6,   400] loss: 0.23554 accuracy: 91.74219\n",
            "[6,   600] loss: 0.25330 accuracy: 91.27344\n",
            "Epoch 6 Test Accuracy: 78.01%\n",
            "[7,   200] loss: 0.14223 accuracy: 95.22656\n",
            "[7,   400] loss: 0.12853 accuracy: 95.63281\n",
            "[7,   600] loss: 0.17503 accuracy: 93.85938\n",
            "Epoch 7 Test Accuracy: 76.40%\n",
            "[8,   200] loss: 0.08925 accuracy: 96.95312\n",
            "[8,   400] loss: 0.08712 accuracy: 97.10156\n",
            "[8,   600] loss: 0.09816 accuracy: 96.75000\n",
            "Epoch 8 Test Accuracy: 77.68%\n",
            "[9,   200] loss: 0.07960 accuracy: 97.12500\n",
            "[9,   400] loss: 0.07058 accuracy: 97.64062\n",
            "[9,   600] loss: 0.08872 accuracy: 96.94531\n",
            "Epoch 9 Test Accuracy: 77.17%\n",
            "[10,   200] loss: 0.05432 accuracy: 98.28125\n",
            "[10,   400] loss: 0.04788 accuracy: 98.39062\n",
            "[10,   600] loss: 0.05790 accuracy: 98.00781\n",
            "Epoch 10 Test Accuracy: 79.89%\n"
          ]
        },
        {
          "data": {
            "text/html": [],
            "text/plain": [
              "<IPython.core.display.HTML object>"
            ]
          },
          "metadata": {},
          "output_type": "display_data"
        },
        {
          "data": {
            "text/html": [
              "<br>    <style><br>        .wandb-row {<br>            display: flex;<br>            flex-direction: row;<br>            flex-wrap: wrap;<br>            justify-content: flex-start;<br>            width: 100%;<br>        }<br>        .wandb-col {<br>            display: flex;<br>            flex-direction: column;<br>            flex-basis: 100%;<br>            flex: 1;<br>            padding: 10px;<br>        }<br>    </style><br><div class=\"wandb-row\"><div class=\"wandb-col\"><h3>Run history:</h3><br/><table class=\"wandb\"><tr><td>epoch</td><td>▁▂▃▃▄▅▆▆▇█</td></tr><tr><td>test_accuracy</td><td>▁▁▆▆▇▇▇▇▇█</td></tr><tr><td>test_loss</td><td>▆█▂▁▁▂▃▄▄▂</td></tr><tr><td>train_accuracy</td><td>▁▃▃▂▃▃▅▄▅▅▅▆▆▅▆▇▆▆▆▇▇█▇▆██▇████▇▇██▇████</td></tr><tr><td>train_loss</td><td>█▆▅▄▅▄▃▃▃▃▃▃▃▃▃▂▂▂▂▂▂▂▂▂▂▂▁▂▁▁▁▂▁▂▁▁▁▁▁▁</td></tr></table><br/></div><div class=\"wandb-col\"><h3>Run summary:</h3><br/><table class=\"wandb\"><tr><td>best_accuracy</td><td>79.89</td></tr><tr><td>epoch</td><td>10</td></tr><tr><td>test_accuracy</td><td>79.89</td></tr><tr><td>test_loss</td><td>0.82744</td></tr><tr><td>train_accuracy</td><td>96.875</td></tr><tr><td>train_loss</td><td>0.09114</td></tr></table><br/></div></div>"
            ],
            "text/plain": [
              "<IPython.core.display.HTML object>"
            ]
          },
          "metadata": {},
          "output_type": "display_data"
        },
        {
          "data": {
            "text/html": [
              " View run <strong style=\"color:#cdcd00\">misty-serenity-4</strong> at: <a href='https://wandb.ai/moxintang-ucb/CS182%20CIFAR-10%20Hyperparameter%20Search/runs/r8uqdxi7' target=\"_blank\">https://wandb.ai/moxintang-ucb/CS182%20CIFAR-10%20Hyperparameter%20Search/runs/r8uqdxi7</a><br> View project at: <a href='https://wandb.ai/moxintang-ucb/CS182%20CIFAR-10%20Hyperparameter%20Search' target=\"_blank\">https://wandb.ai/moxintang-ucb/CS182%20CIFAR-10%20Hyperparameter%20Search</a><br>Synced 5 W&B file(s), 0 media file(s), 0 artifact file(s) and 0 other file(s)"
            ],
            "text/plain": [
              "<IPython.core.display.HTML object>"
            ]
          },
          "metadata": {},
          "output_type": "display_data"
        },
        {
          "data": {
            "text/html": [
              "Find logs at: <code>./wandb/run-20251018_055811-r8uqdxi7/logs</code>"
            ],
            "text/plain": [
              "<IPython.core.display.HTML object>"
            ]
          },
          "metadata": {},
          "output_type": "display_data"
        },
        {
          "name": "stdout",
          "output_type": "stream",
          "text": [
            "Configuration 3 finished with best accuracy: 79.89%\n",
            "--------------------------------------------------\n",
            "Running configuration 4/10: {'architecture': 'ResNet18', 'learning_rate': 0.001, 'batch_size': 64, 'epochs': 10, 'optimizer': 'adam'}\n"
          ]
        },
        {
          "data": {
            "text/html": [],
            "text/plain": [
              "<IPython.core.display.HTML object>"
            ]
          },
          "metadata": {},
          "output_type": "display_data"
        },
        {
          "data": {
            "text/html": [
              "Tracking run with wandb version 0.22.2"
            ],
            "text/plain": [
              "<IPython.core.display.HTML object>"
            ]
          },
          "metadata": {},
          "output_type": "display_data"
        },
        {
          "data": {
            "text/html": [
              "Run data is saved locally in <code>/content/cs182fa25_public/hw06/code/wandb/run-20251018_060641-tl1r4nap</code>"
            ],
            "text/plain": [
              "<IPython.core.display.HTML object>"
            ]
          },
          "metadata": {},
          "output_type": "display_data"
        },
        {
          "data": {
            "text/html": [
              "Syncing run <strong><a href='https://wandb.ai/moxintang-ucb/CS182%20CIFAR-10%20Hyperparameter%20Search/runs/tl1r4nap' target=\"_blank\">stilted-sponge-5</a></strong> to <a href='https://wandb.ai/moxintang-ucb/CS182%20CIFAR-10%20Hyperparameter%20Search' target=\"_blank\">Weights & Biases</a> (<a href='https://wandb.me/developer-guide' target=\"_blank\">docs</a>)<br>"
            ],
            "text/plain": [
              "<IPython.core.display.HTML object>"
            ]
          },
          "metadata": {},
          "output_type": "display_data"
        },
        {
          "data": {
            "text/html": [
              " View project at <a href='https://wandb.ai/moxintang-ucb/CS182%20CIFAR-10%20Hyperparameter%20Search' target=\"_blank\">https://wandb.ai/moxintang-ucb/CS182%20CIFAR-10%20Hyperparameter%20Search</a>"
            ],
            "text/plain": [
              "<IPython.core.display.HTML object>"
            ]
          },
          "metadata": {},
          "output_type": "display_data"
        },
        {
          "data": {
            "text/html": [
              " View run at <a href='https://wandb.ai/moxintang-ucb/CS182%20CIFAR-10%20Hyperparameter%20Search/runs/tl1r4nap' target=\"_blank\">https://wandb.ai/moxintang-ucb/CS182%20CIFAR-10%20Hyperparameter%20Search/runs/tl1r4nap</a>"
            ],
            "text/plain": [
              "<IPython.core.display.HTML object>"
            ]
          },
          "metadata": {},
          "output_type": "display_data"
        },
        {
          "name": "stdout",
          "output_type": "stream",
          "text": [
            "[1,   200] loss: 1.79470 accuracy: 33.51562\n",
            "[1,   400] loss: 1.44093 accuracy: 46.95312\n",
            "[1,   600] loss: 1.18810 accuracy: 57.61719\n",
            "Epoch 1 Test Accuracy: 57.56%\n",
            "[2,   200] loss: 0.93859 accuracy: 66.79688\n",
            "[2,   400] loss: 0.85998 accuracy: 70.00000\n",
            "[2,   600] loss: 0.79733 accuracy: 71.78906\n",
            "Epoch 2 Test Accuracy: 69.75%\n",
            "[3,   200] loss: 0.67189 accuracy: 76.57031\n",
            "[3,   400] loss: 0.62917 accuracy: 77.87500\n",
            "[3,   600] loss: 0.61844 accuracy: 78.39844\n",
            "Epoch 3 Test Accuracy: 72.50%\n",
            "[4,   200] loss: 0.50138 accuracy: 82.53906\n",
            "[4,   400] loss: 0.51063 accuracy: 81.77344\n",
            "[4,   600] loss: 0.50694 accuracy: 82.68750\n",
            "Epoch 4 Test Accuracy: 79.84%\n",
            "[5,   200] loss: 0.39457 accuracy: 86.43750\n",
            "[5,   400] loss: 0.40673 accuracy: 85.78125\n",
            "[5,   600] loss: 0.40142 accuracy: 86.08594\n",
            "Epoch 5 Test Accuracy: 81.24%\n",
            "[6,   200] loss: 0.29900 accuracy: 89.53125\n",
            "[6,   400] loss: 0.32850 accuracy: 88.73438\n",
            "[6,   600] loss: 0.32730 accuracy: 88.26562\n",
            "Epoch 6 Test Accuracy: 81.11%\n",
            "[7,   200] loss: 0.23415 accuracy: 91.73438\n",
            "[7,   400] loss: 0.24525 accuracy: 91.38281\n",
            "[7,   600] loss: 0.25212 accuracy: 90.97656\n",
            "Epoch 7 Test Accuracy: 83.55%\n",
            "[8,   200] loss: 0.15437 accuracy: 94.61719\n",
            "[8,   400] loss: 0.16011 accuracy: 94.28906\n",
            "[8,   600] loss: 0.20278 accuracy: 92.47656\n",
            "Epoch 8 Test Accuracy: 82.84%\n",
            "[9,   200] loss: 0.09752 accuracy: 96.64062\n",
            "[9,   400] loss: 0.12673 accuracy: 95.50781\n",
            "[9,   600] loss: 0.14360 accuracy: 94.95312\n",
            "Epoch 9 Test Accuracy: 81.79%\n",
            "[10,   200] loss: 0.07050 accuracy: 97.76562\n",
            "[10,   400] loss: 0.09773 accuracy: 96.50000\n",
            "[10,   600] loss: 0.11366 accuracy: 95.78906\n",
            "Epoch 10 Test Accuracy: 82.30%\n"
          ]
        },
        {
          "data": {
            "text/html": [],
            "text/plain": [
              "<IPython.core.display.HTML object>"
            ]
          },
          "metadata": {},
          "output_type": "display_data"
        },
        {
          "data": {
            "text/html": [
              "<br>    <style><br>        .wandb-row {<br>            display: flex;<br>            flex-direction: row;<br>            flex-wrap: wrap;<br>            justify-content: flex-start;<br>            width: 100%;<br>        }<br>        .wandb-col {<br>            display: flex;<br>            flex-direction: column;<br>            flex-basis: 100%;<br>            flex: 1;<br>            padding: 10px;<br>        }<br>    </style><br><div class=\"wandb-row\"><div class=\"wandb-col\"><h3>Run history:</h3><br/><table class=\"wandb\"><tr><td>epoch</td><td>▁▂▃▃▄▅▆▆▇█</td></tr><tr><td>test_accuracy</td><td>▁▄▅▇▇▇████</td></tr><tr><td>test_loss</td><td>█▄▄▂▁▁▁▂▂▃</td></tr><tr><td>train_accuracy</td><td>▁▃▄▃▅▄▄▅▅▆▆▇▅▆▅▇▇▆▆▇▆▇▇▇▆▇▇▇▇▇█▇▇▇███▇██</td></tr><tr><td>train_loss</td><td>███▆▇▅▅▅▅▅▃▃▃▂▄▃▃▃▂▃▃▂▂▂▂▂▃▃▂▃▂▁▂▂▁▂▁▁▂▁</td></tr></table><br/></div><div class=\"wandb-col\"><h3>Run summary:</h3><br/><table class=\"wandb\"><tr><td>best_accuracy</td><td>83.55</td></tr><tr><td>epoch</td><td>10</td></tr><tr><td>test_accuracy</td><td>82.3</td></tr><tr><td>test_loss</td><td>0.70746</td></tr><tr><td>train_accuracy</td><td>93.75</td></tr><tr><td>train_loss</td><td>0.139</td></tr></table><br/></div></div>"
            ],
            "text/plain": [
              "<IPython.core.display.HTML object>"
            ]
          },
          "metadata": {},
          "output_type": "display_data"
        },
        {
          "data": {
            "text/html": [
              " View run <strong style=\"color:#cdcd00\">stilted-sponge-5</strong> at: <a href='https://wandb.ai/moxintang-ucb/CS182%20CIFAR-10%20Hyperparameter%20Search/runs/tl1r4nap' target=\"_blank\">https://wandb.ai/moxintang-ucb/CS182%20CIFAR-10%20Hyperparameter%20Search/runs/tl1r4nap</a><br> View project at: <a href='https://wandb.ai/moxintang-ucb/CS182%20CIFAR-10%20Hyperparameter%20Search' target=\"_blank\">https://wandb.ai/moxintang-ucb/CS182%20CIFAR-10%20Hyperparameter%20Search</a><br>Synced 5 W&B file(s), 0 media file(s), 0 artifact file(s) and 0 other file(s)"
            ],
            "text/plain": [
              "<IPython.core.display.HTML object>"
            ]
          },
          "metadata": {},
          "output_type": "display_data"
        },
        {
          "data": {
            "text/html": [
              "Find logs at: <code>./wandb/run-20251018_060641-tl1r4nap/logs</code>"
            ],
            "text/plain": [
              "<IPython.core.display.HTML object>"
            ]
          },
          "metadata": {},
          "output_type": "display_data"
        },
        {
          "name": "stdout",
          "output_type": "stream",
          "text": [
            "Configuration 4 finished with best accuracy: 83.55%\n",
            "--------------------------------------------------\n",
            "Running configuration 5/10: {'architecture': 'MLP', 'learning_rate': 0.01, 'batch_size': 64, 'epochs': 10, 'optimizer': 'sgd', 'momentum': 0.9, 'hidden_layers': 5, 'hidden_size': 1024}\n"
          ]
        },
        {
          "data": {
            "text/html": [],
            "text/plain": [
              "<IPython.core.display.HTML object>"
            ]
          },
          "metadata": {},
          "output_type": "display_data"
        },
        {
          "data": {
            "text/html": [
              "Tracking run with wandb version 0.22.2"
            ],
            "text/plain": [
              "<IPython.core.display.HTML object>"
            ]
          },
          "metadata": {},
          "output_type": "display_data"
        },
        {
          "data": {
            "text/html": [
              "Run data is saved locally in <code>/content/cs182fa25_public/hw06/code/wandb/run-20251018_061518-dm4xiwk2</code>"
            ],
            "text/plain": [
              "<IPython.core.display.HTML object>"
            ]
          },
          "metadata": {},
          "output_type": "display_data"
        },
        {
          "data": {
            "text/html": [
              "Syncing run <strong><a href='https://wandb.ai/moxintang-ucb/CS182%20CIFAR-10%20Hyperparameter%20Search/runs/dm4xiwk2' target=\"_blank\">glad-valley-6</a></strong> to <a href='https://wandb.ai/moxintang-ucb/CS182%20CIFAR-10%20Hyperparameter%20Search' target=\"_blank\">Weights & Biases</a> (<a href='https://wandb.me/developer-guide' target=\"_blank\">docs</a>)<br>"
            ],
            "text/plain": [
              "<IPython.core.display.HTML object>"
            ]
          },
          "metadata": {},
          "output_type": "display_data"
        },
        {
          "data": {
            "text/html": [
              " View project at <a href='https://wandb.ai/moxintang-ucb/CS182%20CIFAR-10%20Hyperparameter%20Search' target=\"_blank\">https://wandb.ai/moxintang-ucb/CS182%20CIFAR-10%20Hyperparameter%20Search</a>"
            ],
            "text/plain": [
              "<IPython.core.display.HTML object>"
            ]
          },
          "metadata": {},
          "output_type": "display_data"
        },
        {
          "data": {
            "text/html": [
              " View run at <a href='https://wandb.ai/moxintang-ucb/CS182%20CIFAR-10%20Hyperparameter%20Search/runs/dm4xiwk2' target=\"_blank\">https://wandb.ai/moxintang-ucb/CS182%20CIFAR-10%20Hyperparameter%20Search/runs/dm4xiwk2</a>"
            ],
            "text/plain": [
              "<IPython.core.display.HTML object>"
            ]
          },
          "metadata": {},
          "output_type": "display_data"
        },
        {
          "name": "stdout",
          "output_type": "stream",
          "text": [
            "[1,   200] loss: 2.29987 accuracy: 11.21875\n",
            "[1,   400] loss: 2.15575 accuracy: 19.35156\n",
            "[1,   600] loss: 1.92862 accuracy: 27.35156\n",
            "Epoch 1 Test Accuracy: 37.40%\n",
            "[2,   200] loss: 1.71724 accuracy: 37.89062\n",
            "[2,   400] loss: 1.61306 accuracy: 41.41406\n",
            "[2,   600] loss: 1.57668 accuracy: 42.94531\n",
            "Epoch 2 Test Accuracy: 47.07%\n",
            "[3,   200] loss: 1.48302 accuracy: 46.72656\n",
            "[3,   400] loss: 1.44888 accuracy: 47.73438\n",
            "[3,   600] loss: 1.42025 accuracy: 48.86719\n",
            "Epoch 3 Test Accuracy: 48.36%\n",
            "[4,   200] loss: 1.35131 accuracy: 51.46094\n",
            "[4,   400] loss: 1.32541 accuracy: 52.53125\n",
            "[4,   600] loss: 1.32012 accuracy: 52.89062\n",
            "Epoch 4 Test Accuracy: 52.77%\n",
            "[5,   200] loss: 1.21967 accuracy: 56.38281\n",
            "[5,   400] loss: 1.24061 accuracy: 55.48438\n",
            "[5,   600] loss: 1.24626 accuracy: 55.63281\n",
            "Epoch 5 Test Accuracy: 52.27%\n",
            "[6,   200] loss: 1.13471 accuracy: 59.24219\n",
            "[6,   400] loss: 1.15651 accuracy: 58.71875\n",
            "[6,   600] loss: 1.17499 accuracy: 57.86719\n",
            "Epoch 6 Test Accuracy: 54.27%\n",
            "[7,   200] loss: 1.07319 accuracy: 62.13281\n",
            "[7,   400] loss: 1.08425 accuracy: 61.70312\n",
            "[7,   600] loss: 1.08023 accuracy: 61.04688\n",
            "Epoch 7 Test Accuracy: 55.06%\n",
            "[8,   200] loss: 0.98833 accuracy: 64.72656\n",
            "[8,   400] loss: 1.01157 accuracy: 63.63281\n",
            "[8,   600] loss: 1.01859 accuracy: 63.60156\n",
            "Epoch 8 Test Accuracy: 54.54%\n",
            "[9,   200] loss: 0.89959 accuracy: 68.06250\n",
            "[9,   400] loss: 0.92333 accuracy: 67.10156\n",
            "[9,   600] loss: 0.96100 accuracy: 66.38281\n",
            "Epoch 9 Test Accuracy: 54.22%\n",
            "[10,   200] loss: 0.81201 accuracy: 71.17969\n",
            "[10,   400] loss: 0.86812 accuracy: 69.17188\n",
            "[10,   600] loss: 0.88847 accuracy: 68.54688\n",
            "Epoch 10 Test Accuracy: 56.00%\n"
          ]
        },
        {
          "data": {
            "text/html": [],
            "text/plain": [
              "<IPython.core.display.HTML object>"
            ]
          },
          "metadata": {},
          "output_type": "display_data"
        },
        {
          "data": {
            "text/html": [
              "<br>    <style><br>        .wandb-row {<br>            display: flex;<br>            flex-direction: row;<br>            flex-wrap: wrap;<br>            justify-content: flex-start;<br>            width: 100%;<br>        }<br>        .wandb-col {<br>            display: flex;<br>            flex-direction: column;<br>            flex-basis: 100%;<br>            flex: 1;<br>            padding: 10px;<br>        }<br>    </style><br><div class=\"wandb-row\"><div class=\"wandb-col\"><h3>Run history:</h3><br/><table class=\"wandb\"><tr><td>epoch</td><td>▁▂▃▃▄▅▆▆▇█</td></tr><tr><td>test_accuracy</td><td>▁▅▅▇▇▇█▇▇█</td></tr><tr><td>test_loss</td><td>█▄▃▂▂▁▁▁▂▁</td></tr><tr><td>train_accuracy</td><td>▁▁▂▂▂▅▄▅▅▅▄▄▄▅▅▄▅▅▆▆▅▇▆▇▆▆▆▆▆▇▆▇█▆▇▆▇▆▇▆</td></tr><tr><td>train_loss</td><td>█▆▇▄▄▆▄▅▃▄▄▄▃▄▃▄▅▃▃▃▃▃▃▃▃▃▃▄▃▃▁▃▂▂▂▁▂▁▃▂</td></tr></table><br/></div><div class=\"wandb-col\"><h3>Run summary:</h3><br/><table class=\"wandb\"><tr><td>best_accuracy</td><td>56</td></tr><tr><td>epoch</td><td>10</td></tr><tr><td>test_accuracy</td><td>56</td></tr><tr><td>test_loss</td><td>1.28959</td></tr><tr><td>train_accuracy</td><td>70.3125</td></tr><tr><td>train_loss</td><td>0.82167</td></tr></table><br/></div></div>"
            ],
            "text/plain": [
              "<IPython.core.display.HTML object>"
            ]
          },
          "metadata": {},
          "output_type": "display_data"
        },
        {
          "data": {
            "text/html": [
              " View run <strong style=\"color:#cdcd00\">glad-valley-6</strong> at: <a href='https://wandb.ai/moxintang-ucb/CS182%20CIFAR-10%20Hyperparameter%20Search/runs/dm4xiwk2' target=\"_blank\">https://wandb.ai/moxintang-ucb/CS182%20CIFAR-10%20Hyperparameter%20Search/runs/dm4xiwk2</a><br> View project at: <a href='https://wandb.ai/moxintang-ucb/CS182%20CIFAR-10%20Hyperparameter%20Search' target=\"_blank\">https://wandb.ai/moxintang-ucb/CS182%20CIFAR-10%20Hyperparameter%20Search</a><br>Synced 5 W&B file(s), 0 media file(s), 0 artifact file(s) and 0 other file(s)"
            ],
            "text/plain": [
              "<IPython.core.display.HTML object>"
            ]
          },
          "metadata": {},
          "output_type": "display_data"
        },
        {
          "data": {
            "text/html": [
              "Find logs at: <code>./wandb/run-20251018_061518-dm4xiwk2/logs</code>"
            ],
            "text/plain": [
              "<IPython.core.display.HTML object>"
            ]
          },
          "metadata": {},
          "output_type": "display_data"
        },
        {
          "name": "stdout",
          "output_type": "stream",
          "text": [
            "Configuration 5 finished with best accuracy: 56.00%\n",
            "--------------------------------------------------\n",
            "Running configuration 6/10: {'architecture': 'MLP', 'learning_rate': 0.001, 'batch_size': 128, 'epochs': 10, 'optimizer': 'adam', 'hidden_layers': 3, 'hidden_size': 2048}\n"
          ]
        },
        {
          "data": {
            "text/html": [],
            "text/plain": [
              "<IPython.core.display.HTML object>"
            ]
          },
          "metadata": {},
          "output_type": "display_data"
        },
        {
          "data": {
            "text/html": [
              "Tracking run with wandb version 0.22.2"
            ],
            "text/plain": [
              "<IPython.core.display.HTML object>"
            ]
          },
          "metadata": {},
          "output_type": "display_data"
        },
        {
          "data": {
            "text/html": [
              "Run data is saved locally in <code>/content/cs182fa25_public/hw06/code/wandb/run-20251018_061647-adyxnz23</code>"
            ],
            "text/plain": [
              "<IPython.core.display.HTML object>"
            ]
          },
          "metadata": {},
          "output_type": "display_data"
        },
        {
          "data": {
            "text/html": [
              "Syncing run <strong><a href='https://wandb.ai/moxintang-ucb/CS182%20CIFAR-10%20Hyperparameter%20Search/runs/adyxnz23' target=\"_blank\">exalted-haze-7</a></strong> to <a href='https://wandb.ai/moxintang-ucb/CS182%20CIFAR-10%20Hyperparameter%20Search' target=\"_blank\">Weights & Biases</a> (<a href='https://wandb.me/developer-guide' target=\"_blank\">docs</a>)<br>"
            ],
            "text/plain": [
              "<IPython.core.display.HTML object>"
            ]
          },
          "metadata": {},
          "output_type": "display_data"
        },
        {
          "data": {
            "text/html": [
              " View project at <a href='https://wandb.ai/moxintang-ucb/CS182%20CIFAR-10%20Hyperparameter%20Search' target=\"_blank\">https://wandb.ai/moxintang-ucb/CS182%20CIFAR-10%20Hyperparameter%20Search</a>"
            ],
            "text/plain": [
              "<IPython.core.display.HTML object>"
            ]
          },
          "metadata": {},
          "output_type": "display_data"
        },
        {
          "data": {
            "text/html": [
              " View run at <a href='https://wandb.ai/moxintang-ucb/CS182%20CIFAR-10%20Hyperparameter%20Search/runs/adyxnz23' target=\"_blank\">https://wandb.ai/moxintang-ucb/CS182%20CIFAR-10%20Hyperparameter%20Search/runs/adyxnz23</a>"
            ],
            "text/plain": [
              "<IPython.core.display.HTML object>"
            ]
          },
          "metadata": {},
          "output_type": "display_data"
        },
        {
          "name": "stdout",
          "output_type": "stream",
          "text": [
            "[1,   200] loss: 1.86276 accuracy: 32.82422\n",
            "Epoch 1 Test Accuracy: 38.96%\n",
            "[2,   200] loss: 1.61963 accuracy: 42.81641\n",
            "Epoch 2 Test Accuracy: 45.14%\n",
            "[3,   200] loss: 1.50971 accuracy: 46.83203\n",
            "Epoch 3 Test Accuracy: 46.69%\n",
            "[4,   200] loss: 1.42994 accuracy: 49.31250\n",
            "Epoch 4 Test Accuracy: 46.91%\n",
            "[5,   200] loss: 1.38447 accuracy: 51.17969\n",
            "Epoch 5 Test Accuracy: 48.57%\n",
            "[6,   200] loss: 1.31566 accuracy: 53.50391\n",
            "Epoch 6 Test Accuracy: 50.23%\n",
            "[7,   200] loss: 1.27230 accuracy: 55.18359\n",
            "Epoch 7 Test Accuracy: 50.06%\n",
            "[8,   200] loss: 1.21784 accuracy: 57.07812\n",
            "Epoch 8 Test Accuracy: 52.10%\n",
            "[9,   200] loss: 1.17424 accuracy: 58.42969\n",
            "Epoch 9 Test Accuracy: 52.17%\n",
            "[10,   200] loss: 1.12082 accuracy: 60.16016\n",
            "Epoch 10 Test Accuracy: 52.03%\n"
          ]
        },
        {
          "data": {
            "text/html": [],
            "text/plain": [
              "<IPython.core.display.HTML object>"
            ]
          },
          "metadata": {},
          "output_type": "display_data"
        },
        {
          "data": {
            "text/html": [
              "<br>    <style><br>        .wandb-row {<br>            display: flex;<br>            flex-direction: row;<br>            flex-wrap: wrap;<br>            justify-content: flex-start;<br>            width: 100%;<br>        }<br>        .wandb-col {<br>            display: flex;<br>            flex-direction: column;<br>            flex-basis: 100%;<br>            flex: 1;<br>            padding: 10px;<br>        }<br>    </style><br><div class=\"wandb-row\"><div class=\"wandb-col\"><h3>Run history:</h3><br/><table class=\"wandb\"><tr><td>epoch</td><td>▁▂▃▃▄▅▆▆▇█</td></tr><tr><td>test_accuracy</td><td>▁▄▅▅▆▇▇███</td></tr><tr><td>test_loss</td><td>█▅▄▃▃▂▂▁▂▁</td></tr><tr><td>train_accuracy</td><td>▁▁▂▃▅▄▄▃▅▁▃▄▅▄▄▄▅▅▆▄▇▆▇▄▃▇▅▅▅▇▅▆█▇█▆▅▅▅▅</td></tr><tr><td>train_loss</td><td>█▇▇▇█▆▅▅▇▇█▇▅▆▄▅▃▅▄▅▄▄▄▄▄▂▄▂▃▃▂▃▃▃▃▂▂▃▁▃</td></tr></table><br/></div><div class=\"wandb-col\"><h3>Run summary:</h3><br/><table class=\"wandb\"><tr><td>best_accuracy</td><td>52.17</td></tr><tr><td>epoch</td><td>10</td></tr><tr><td>test_accuracy</td><td>52.03</td></tr><tr><td>test_loss</td><td>1.39151</td></tr><tr><td>train_accuracy</td><td>55.46875</td></tr><tr><td>train_loss</td><td>1.23156</td></tr></table><br/></div></div>"
            ],
            "text/plain": [
              "<IPython.core.display.HTML object>"
            ]
          },
          "metadata": {},
          "output_type": "display_data"
        },
        {
          "data": {
            "text/html": [
              " View run <strong style=\"color:#cdcd00\">exalted-haze-7</strong> at: <a href='https://wandb.ai/moxintang-ucb/CS182%20CIFAR-10%20Hyperparameter%20Search/runs/adyxnz23' target=\"_blank\">https://wandb.ai/moxintang-ucb/CS182%20CIFAR-10%20Hyperparameter%20Search/runs/adyxnz23</a><br> View project at: <a href='https://wandb.ai/moxintang-ucb/CS182%20CIFAR-10%20Hyperparameter%20Search' target=\"_blank\">https://wandb.ai/moxintang-ucb/CS182%20CIFAR-10%20Hyperparameter%20Search</a><br>Synced 5 W&B file(s), 0 media file(s), 0 artifact file(s) and 0 other file(s)"
            ],
            "text/plain": [
              "<IPython.core.display.HTML object>"
            ]
          },
          "metadata": {},
          "output_type": "display_data"
        },
        {
          "data": {
            "text/html": [
              "Find logs at: <code>./wandb/run-20251018_061647-adyxnz23/logs</code>"
            ],
            "text/plain": [
              "<IPython.core.display.HTML object>"
            ]
          },
          "metadata": {},
          "output_type": "display_data"
        },
        {
          "name": "stdout",
          "output_type": "stream",
          "text": [
            "Configuration 6 finished with best accuracy: 52.17%\n",
            "--------------------------------------------------\n",
            "Running configuration 7/10: {'architecture': 'BasicConvNet', 'learning_rate': 0.005, 'batch_size': 32, 'epochs': 10, 'optimizer': 'rmsprop'}\n"
          ]
        },
        {
          "data": {
            "text/html": [],
            "text/plain": [
              "<IPython.core.display.HTML object>"
            ]
          },
          "metadata": {},
          "output_type": "display_data"
        },
        {
          "data": {
            "text/html": [
              "Tracking run with wandb version 0.22.2"
            ],
            "text/plain": [
              "<IPython.core.display.HTML object>"
            ]
          },
          "metadata": {},
          "output_type": "display_data"
        },
        {
          "data": {
            "text/html": [
              "Run data is saved locally in <code>/content/cs182fa25_public/hw06/code/wandb/run-20251018_061810-o4komxr0</code>"
            ],
            "text/plain": [
              "<IPython.core.display.HTML object>"
            ]
          },
          "metadata": {},
          "output_type": "display_data"
        },
        {
          "data": {
            "text/html": [
              "Syncing run <strong><a href='https://wandb.ai/moxintang-ucb/CS182%20CIFAR-10%20Hyperparameter%20Search/runs/o4komxr0' target=\"_blank\">lemon-armadillo-8</a></strong> to <a href='https://wandb.ai/moxintang-ucb/CS182%20CIFAR-10%20Hyperparameter%20Search' target=\"_blank\">Weights & Biases</a> (<a href='https://wandb.me/developer-guide' target=\"_blank\">docs</a>)<br>"
            ],
            "text/plain": [
              "<IPython.core.display.HTML object>"
            ]
          },
          "metadata": {},
          "output_type": "display_data"
        },
        {
          "data": {
            "text/html": [
              " View project at <a href='https://wandb.ai/moxintang-ucb/CS182%20CIFAR-10%20Hyperparameter%20Search' target=\"_blank\">https://wandb.ai/moxintang-ucb/CS182%20CIFAR-10%20Hyperparameter%20Search</a>"
            ],
            "text/plain": [
              "<IPython.core.display.HTML object>"
            ]
          },
          "metadata": {},
          "output_type": "display_data"
        },
        {
          "data": {
            "text/html": [
              " View run at <a href='https://wandb.ai/moxintang-ucb/CS182%20CIFAR-10%20Hyperparameter%20Search/runs/o4komxr0' target=\"_blank\">https://wandb.ai/moxintang-ucb/CS182%20CIFAR-10%20Hyperparameter%20Search/runs/o4komxr0</a>"
            ],
            "text/plain": [
              "<IPython.core.display.HTML object>"
            ]
          },
          "metadata": {},
          "output_type": "display_data"
        },
        {
          "name": "stdout",
          "output_type": "stream",
          "text": [
            "[1,   200] loss: 2.19267 accuracy: 20.09375\n",
            "[1,   400] loss: 1.95653 accuracy: 27.12500\n",
            "[1,   600] loss: 1.84637 accuracy: 31.96875\n",
            "[1,   800] loss: 1.79304 accuracy: 33.85938\n",
            "[1,  1000] loss: 1.74992 accuracy: 36.48438\n",
            "[1,  1200] loss: 1.70046 accuracy: 37.07812\n",
            "[1,  1400] loss: 1.68046 accuracy: 39.39062\n",
            "Epoch 1 Test Accuracy: 39.25%\n",
            "[2,   200] loss: 1.59426 accuracy: 42.37500\n",
            "[2,   400] loss: 1.60086 accuracy: 41.23438\n",
            "[2,   600] loss: 1.56491 accuracy: 43.39062\n",
            "[2,   800] loss: 1.55803 accuracy: 43.76562\n",
            "[2,  1000] loss: 1.57938 accuracy: 42.78125\n",
            "[2,  1200] loss: 1.49804 accuracy: 45.04688\n",
            "[2,  1400] loss: 1.51343 accuracy: 45.00000\n",
            "Epoch 2 Test Accuracy: 44.72%\n",
            "[3,   200] loss: 1.49477 accuracy: 46.59375\n",
            "[3,   400] loss: 1.43094 accuracy: 47.82812\n",
            "[3,   600] loss: 1.46887 accuracy: 47.78125\n",
            "[3,   800] loss: 1.44597 accuracy: 48.43750\n",
            "[3,  1000] loss: 1.45069 accuracy: 48.65625\n",
            "[3,  1200] loss: 1.43753 accuracy: 48.43750\n",
            "[3,  1400] loss: 1.42855 accuracy: 48.68750\n",
            "Epoch 3 Test Accuracy: 45.31%\n",
            "[4,   200] loss: 1.41216 accuracy: 49.96875\n",
            "[4,   400] loss: 1.36778 accuracy: 51.54688\n",
            "[4,   600] loss: 1.39493 accuracy: 49.98438\n",
            "[4,   800] loss: 1.41619 accuracy: 49.51562\n",
            "[4,  1000] loss: 1.39440 accuracy: 50.28125\n",
            "[4,  1200] loss: 1.37925 accuracy: 51.07812\n",
            "[4,  1400] loss: 1.37460 accuracy: 51.87500\n",
            "Epoch 4 Test Accuracy: 50.74%\n",
            "[5,   200] loss: 1.31273 accuracy: 54.10938\n",
            "[5,   400] loss: 1.32440 accuracy: 53.96875\n",
            "[5,   600] loss: 1.35207 accuracy: 52.06250\n",
            "[5,   800] loss: 1.33129 accuracy: 52.59375\n",
            "[5,  1000] loss: 1.32467 accuracy: 53.53125\n",
            "[5,  1200] loss: 1.33897 accuracy: 53.07812\n",
            "[5,  1400] loss: 1.35340 accuracy: 53.04688\n",
            "Epoch 5 Test Accuracy: 48.17%\n",
            "[6,   200] loss: 1.28741 accuracy: 55.20312\n",
            "[6,   400] loss: 1.25695 accuracy: 55.90625\n",
            "[6,   600] loss: 1.32782 accuracy: 53.67188\n",
            "[6,   800] loss: 1.31980 accuracy: 54.14062\n",
            "[6,  1000] loss: 1.30618 accuracy: 54.67188\n",
            "[6,  1200] loss: 1.29184 accuracy: 55.00000\n",
            "[6,  1400] loss: 1.28589 accuracy: 55.48438\n",
            "Epoch 6 Test Accuracy: 51.31%\n",
            "[7,   200] loss: 1.25128 accuracy: 56.62500\n",
            "[7,   400] loss: 1.24337 accuracy: 56.62500\n",
            "[7,   600] loss: 1.28132 accuracy: 54.95312\n",
            "[7,   800] loss: 1.24732 accuracy: 56.18750\n",
            "[7,  1000] loss: 1.22910 accuracy: 57.75000\n",
            "[7,  1200] loss: 1.27480 accuracy: 56.10938\n",
            "[7,  1400] loss: 1.30913 accuracy: 54.18750\n",
            "Epoch 7 Test Accuracy: 52.85%\n",
            "[8,   200] loss: 1.20957 accuracy: 57.35938\n",
            "[8,   400] loss: 1.23374 accuracy: 56.75000\n",
            "[8,   600] loss: 1.25077 accuracy: 56.95312\n",
            "[8,   800] loss: 1.25393 accuracy: 56.62500\n",
            "[8,  1000] loss: 1.24158 accuracy: 57.25000\n",
            "[8,  1200] loss: 1.25173 accuracy: 57.10938\n",
            "[8,  1400] loss: 1.24105 accuracy: 56.79688\n",
            "Epoch 8 Test Accuracy: 52.67%\n",
            "[9,   200] loss: 1.18841 accuracy: 58.90625\n",
            "[9,   400] loss: 1.24555 accuracy: 57.60938\n",
            "[9,   600] loss: 1.18461 accuracy: 59.09375\n",
            "[9,   800] loss: 1.24726 accuracy: 57.42188\n",
            "[9,  1000] loss: 1.19560 accuracy: 58.32812\n",
            "[9,  1200] loss: 1.23589 accuracy: 57.78125\n",
            "[9,  1400] loss: 1.25337 accuracy: 56.68750\n",
            "Epoch 9 Test Accuracy: 56.04%\n",
            "[10,   200] loss: 1.18814 accuracy: 58.45312\n",
            "[10,   400] loss: 1.18016 accuracy: 59.34375\n",
            "[10,   600] loss: 1.20425 accuracy: 58.29688\n",
            "[10,   800] loss: 1.19529 accuracy: 58.59375\n",
            "[10,  1000] loss: 1.20997 accuracy: 58.57812\n",
            "[10,  1200] loss: 1.17251 accuracy: 59.04688\n",
            "[10,  1400] loss: 1.20828 accuracy: 58.67188\n",
            "Epoch 10 Test Accuracy: 54.23%\n"
          ]
        },
        {
          "data": {
            "text/html": [],
            "text/plain": [
              "<IPython.core.display.HTML object>"
            ]
          },
          "metadata": {},
          "output_type": "display_data"
        },
        {
          "data": {
            "text/html": [
              "<br>    <style><br>        .wandb-row {<br>            display: flex;<br>            flex-direction: row;<br>            flex-wrap: wrap;<br>            justify-content: flex-start;<br>            width: 100%;<br>        }<br>        .wandb-col {<br>            display: flex;<br>            flex-direction: column;<br>            flex-basis: 100%;<br>            flex: 1;<br>            padding: 10px;<br>        }<br>    </style><br><div class=\"wandb-row\"><div class=\"wandb-col\"><h3>Run history:</h3><br/><table class=\"wandb\"><tr><td>epoch</td><td>▁▂▃▃▄▅▆▆▇█</td></tr><tr><td>test_accuracy</td><td>▁▃▄▆▅▆▇▇█▇</td></tr><tr><td>test_loss</td><td>█▅▅▃▅▃▂▂▁▂</td></tr><tr><td>train_accuracy</td><td>▁▂▂▂▇▆▅▅▄▅▆█▆▄▄▃▅▅▇▅▇▆▅▇▆▅▇▇█▇▅▅▇▄▆█▆▇▆▆</td></tr><tr><td>train_loss</td><td>▇▆▆▆▆▅▄▅▄▇▇█▃▄▄▆▃▃▄▄▂▅▁▅▃▅▃▄▃▃▂▅▃▆▃▅▅▃▃▃</td></tr></table><br/></div><div class=\"wandb-col\"><h3>Run summary:</h3><br/><table class=\"wandb\"><tr><td>best_accuracy</td><td>56.04</td></tr><tr><td>epoch</td><td>10</td></tr><tr><td>test_accuracy</td><td>54.23</td></tr><tr><td>test_loss</td><td>1.33972</td></tr><tr><td>train_accuracy</td><td>56.25</td></tr><tr><td>train_loss</td><td>1.39995</td></tr></table><br/></div></div>"
            ],
            "text/plain": [
              "<IPython.core.display.HTML object>"
            ]
          },
          "metadata": {},
          "output_type": "display_data"
        },
        {
          "data": {
            "text/html": [
              " View run <strong style=\"color:#cdcd00\">lemon-armadillo-8</strong> at: <a href='https://wandb.ai/moxintang-ucb/CS182%20CIFAR-10%20Hyperparameter%20Search/runs/o4komxr0' target=\"_blank\">https://wandb.ai/moxintang-ucb/CS182%20CIFAR-10%20Hyperparameter%20Search/runs/o4komxr0</a><br> View project at: <a href='https://wandb.ai/moxintang-ucb/CS182%20CIFAR-10%20Hyperparameter%20Search' target=\"_blank\">https://wandb.ai/moxintang-ucb/CS182%20CIFAR-10%20Hyperparameter%20Search</a><br>Synced 5 W&B file(s), 0 media file(s), 0 artifact file(s) and 0 other file(s)"
            ],
            "text/plain": [
              "<IPython.core.display.HTML object>"
            ]
          },
          "metadata": {},
          "output_type": "display_data"
        },
        {
          "data": {
            "text/html": [
              "Find logs at: <code>./wandb/run-20251018_061810-o4komxr0/logs</code>"
            ],
            "text/plain": [
              "<IPython.core.display.HTML object>"
            ]
          },
          "metadata": {},
          "output_type": "display_data"
        },
        {
          "name": "stdout",
          "output_type": "stream",
          "text": [
            "Configuration 7 finished with best accuracy: 56.04%\n",
            "--------------------------------------------------\n",
            "Running configuration 8/10: {'architecture': 'ResNet18', 'learning_rate': 0.0005, 'batch_size': 32, 'epochs': 10, 'optimizer': 'adam', 'weight_decay': 0.0001}\n"
          ]
        },
        {
          "data": {
            "text/html": [],
            "text/plain": [
              "<IPython.core.display.HTML object>"
            ]
          },
          "metadata": {},
          "output_type": "display_data"
        },
        {
          "data": {
            "text/html": [
              "Tracking run with wandb version 0.22.2"
            ],
            "text/plain": [
              "<IPython.core.display.HTML object>"
            ]
          },
          "metadata": {},
          "output_type": "display_data"
        },
        {
          "data": {
            "text/html": [
              "Run data is saved locally in <code>/content/cs182fa25_public/hw06/code/wandb/run-20251018_061946-qgmug97p</code>"
            ],
            "text/plain": [
              "<IPython.core.display.HTML object>"
            ]
          },
          "metadata": {},
          "output_type": "display_data"
        },
        {
          "data": {
            "text/html": [
              "Syncing run <strong><a href='https://wandb.ai/moxintang-ucb/CS182%20CIFAR-10%20Hyperparameter%20Search/runs/qgmug97p' target=\"_blank\">wobbly-dawn-9</a></strong> to <a href='https://wandb.ai/moxintang-ucb/CS182%20CIFAR-10%20Hyperparameter%20Search' target=\"_blank\">Weights & Biases</a> (<a href='https://wandb.me/developer-guide' target=\"_blank\">docs</a>)<br>"
            ],
            "text/plain": [
              "<IPython.core.display.HTML object>"
            ]
          },
          "metadata": {},
          "output_type": "display_data"
        },
        {
          "data": {
            "text/html": [
              " View project at <a href='https://wandb.ai/moxintang-ucb/CS182%20CIFAR-10%20Hyperparameter%20Search' target=\"_blank\">https://wandb.ai/moxintang-ucb/CS182%20CIFAR-10%20Hyperparameter%20Search</a>"
            ],
            "text/plain": [
              "<IPython.core.display.HTML object>"
            ]
          },
          "metadata": {},
          "output_type": "display_data"
        },
        {
          "data": {
            "text/html": [
              " View run at <a href='https://wandb.ai/moxintang-ucb/CS182%20CIFAR-10%20Hyperparameter%20Search/runs/qgmug97p' target=\"_blank\">https://wandb.ai/moxintang-ucb/CS182%20CIFAR-10%20Hyperparameter%20Search/runs/qgmug97p</a>"
            ],
            "text/plain": [
              "<IPython.core.display.HTML object>"
            ]
          },
          "metadata": {},
          "output_type": "display_data"
        },
        {
          "name": "stdout",
          "output_type": "stream",
          "text": [
            "[1,   200] loss: 1.83146 accuracy: 33.09375\n",
            "[1,   400] loss: 1.55195 accuracy: 43.10938\n",
            "[1,   600] loss: 1.36633 accuracy: 49.76562\n",
            "[1,   800] loss: 1.24634 accuracy: 55.14062\n",
            "[1,  1000] loss: 1.13737 accuracy: 59.01562\n",
            "[1,  1200] loss: 1.06803 accuracy: 61.98438\n",
            "[1,  1400] loss: 1.02463 accuracy: 63.48438\n",
            "Epoch 1 Test Accuracy: 63.42%\n",
            "[2,   200] loss: 0.89126 accuracy: 68.42188\n",
            "[2,   400] loss: 0.87598 accuracy: 69.06250\n",
            "[2,   600] loss: 0.82726 accuracy: 70.95312\n",
            "[2,   800] loss: 0.81739 accuracy: 71.06250\n",
            "[2,  1000] loss: 0.77317 accuracy: 73.10938\n",
            "[2,  1200] loss: 0.78414 accuracy: 73.17188\n",
            "[2,  1400] loss: 0.73159 accuracy: 74.90625\n",
            "Epoch 2 Test Accuracy: 66.03%\n",
            "[3,   200] loss: 0.66513 accuracy: 77.17188\n",
            "[3,   400] loss: 0.65289 accuracy: 77.79688\n",
            "[3,   600] loss: 0.67286 accuracy: 76.73438\n",
            "[3,   800] loss: 0.65271 accuracy: 77.57812\n",
            "[3,  1000] loss: 0.64802 accuracy: 77.53125\n",
            "[3,  1200] loss: 0.63405 accuracy: 78.56250\n",
            "[3,  1400] loss: 0.61991 accuracy: 78.43750\n",
            "Epoch 3 Test Accuracy: 75.12%\n",
            "[4,   200] loss: 0.51868 accuracy: 82.10938\n",
            "[4,   400] loss: 0.56213 accuracy: 80.45312\n",
            "[4,   600] loss: 0.55459 accuracy: 80.81250\n",
            "[4,   800] loss: 0.55921 accuracy: 80.65625\n",
            "[4,  1000] loss: 0.55113 accuracy: 81.25000\n",
            "[4,  1200] loss: 0.55658 accuracy: 81.04688\n",
            "[4,  1400] loss: 0.51550 accuracy: 82.42188\n",
            "Epoch 4 Test Accuracy: 76.63%\n",
            "[5,   200] loss: 0.44844 accuracy: 84.20312\n",
            "[5,   400] loss: 0.45032 accuracy: 84.59375\n",
            "[5,   600] loss: 0.46921 accuracy: 83.50000\n",
            "[5,   800] loss: 0.46858 accuracy: 83.31250\n",
            "[5,  1000] loss: 0.48424 accuracy: 83.75000\n",
            "[5,  1200] loss: 0.47637 accuracy: 83.37500\n",
            "[5,  1400] loss: 0.47997 accuracy: 83.93750\n",
            "Epoch 5 Test Accuracy: 79.40%\n",
            "[6,   200] loss: 0.35282 accuracy: 87.81250\n",
            "[6,   400] loss: 0.40602 accuracy: 86.23438\n",
            "[6,   600] loss: 0.40963 accuracy: 85.51562\n",
            "[6,   800] loss: 0.40434 accuracy: 86.06250\n",
            "[6,  1000] loss: 0.41441 accuracy: 85.65625\n",
            "[6,  1200] loss: 0.42821 accuracy: 85.35938\n",
            "[6,  1400] loss: 0.40386 accuracy: 86.04688\n",
            "Epoch 6 Test Accuracy: 76.38%\n",
            "[7,   200] loss: 0.30968 accuracy: 89.25000\n",
            "[7,   400] loss: 0.32620 accuracy: 88.39062\n",
            "[7,   600] loss: 0.35138 accuracy: 88.12500\n",
            "[7,   800] loss: 0.36752 accuracy: 87.28125\n",
            "[7,  1000] loss: 0.32789 accuracy: 88.90625\n",
            "[7,  1200] loss: 0.35805 accuracy: 87.35938\n",
            "[7,  1400] loss: 0.34969 accuracy: 88.17188\n",
            "Epoch 7 Test Accuracy: 82.81%\n",
            "[8,   200] loss: 0.24414 accuracy: 91.78125\n",
            "[8,   400] loss: 0.26888 accuracy: 90.79688\n",
            "[8,   600] loss: 0.30006 accuracy: 89.59375\n",
            "[8,   800] loss: 0.30322 accuracy: 89.31250\n",
            "[8,  1000] loss: 0.32031 accuracy: 89.21875\n",
            "[8,  1200] loss: 0.32045 accuracy: 89.07812\n",
            "[8,  1400] loss: 0.32659 accuracy: 88.64062\n",
            "Epoch 8 Test Accuracy: 81.87%\n",
            "[9,   200] loss: 0.19367 accuracy: 93.51562\n",
            "[9,   400] loss: 0.23746 accuracy: 91.56250\n",
            "[9,   600] loss: 0.25120 accuracy: 91.00000\n",
            "[9,   800] loss: 0.24504 accuracy: 91.59375\n",
            "[9,  1000] loss: 0.25697 accuracy: 90.57812\n",
            "[9,  1200] loss: 0.27325 accuracy: 90.45312\n",
            "[9,  1400] loss: 0.26516 accuracy: 90.65625\n",
            "Epoch 9 Test Accuracy: 84.21%\n",
            "[10,   200] loss: 0.16028 accuracy: 94.79688\n",
            "[10,   400] loss: 0.20165 accuracy: 92.90625\n",
            "[10,   600] loss: 0.20787 accuracy: 92.59375\n",
            "[10,   800] loss: 0.23278 accuracy: 91.71875\n",
            "[10,  1000] loss: 0.21862 accuracy: 92.60938\n",
            "[10,  1200] loss: 0.21499 accuracy: 92.46875\n",
            "[10,  1400] loss: 0.22498 accuracy: 91.98438\n",
            "Epoch 10 Test Accuracy: 83.51%\n"
          ]
        },
        {
          "data": {
            "text/html": [],
            "text/plain": [
              "<IPython.core.display.HTML object>"
            ]
          },
          "metadata": {},
          "output_type": "display_data"
        },
        {
          "data": {
            "text/html": [
              "<br>    <style><br>        .wandb-row {<br>            display: flex;<br>            flex-direction: row;<br>            flex-wrap: wrap;<br>            justify-content: flex-start;<br>            width: 100%;<br>        }<br>        .wandb-col {<br>            display: flex;<br>            flex-direction: column;<br>            flex-basis: 100%;<br>            flex: 1;<br>            padding: 10px;<br>        }<br>    </style><br><div class=\"wandb-row\"><div class=\"wandb-col\"><h3>Run history:</h3><br/><table class=\"wandb\"><tr><td>epoch</td><td>▁▂▃▃▄▅▆▆▇█</td></tr><tr><td>test_accuracy</td><td>▁▂▅▅▆▅█▇██</td></tr><tr><td>test_loss</td><td>█▇▄▄▃▅▁▂▁▂</td></tr><tr><td>train_accuracy</td><td>▁▄▃▅▆▆▅▄▆▆▅▆▇▆▇▇▇▆▇▇▆▇▇▇▇▇▇▆▇▇▇█▇▇▇█▇▇▇█</td></tr><tr><td>train_loss</td><td>█▇▇▄▅▄▄▃▄▃▂▃▃▃▂▂▂▂▁▁▃▃▂▄▁▃▂▁▂▂▂▂▁▂▂▂▂▁▂▂</td></tr></table><br/></div><div class=\"wandb-col\"><h3>Run summary:</h3><br/><table class=\"wandb\"><tr><td>best_accuracy</td><td>84.21</td></tr><tr><td>epoch</td><td>10</td></tr><tr><td>test_accuracy</td><td>83.51</td></tr><tr><td>test_loss</td><td>0.54669</td></tr><tr><td>train_accuracy</td><td>93.75</td></tr><tr><td>train_loss</td><td>0.12635</td></tr></table><br/></div></div>"
            ],
            "text/plain": [
              "<IPython.core.display.HTML object>"
            ]
          },
          "metadata": {},
          "output_type": "display_data"
        },
        {
          "data": {
            "text/html": [
              " View run <strong style=\"color:#cdcd00\">wobbly-dawn-9</strong> at: <a href='https://wandb.ai/moxintang-ucb/CS182%20CIFAR-10%20Hyperparameter%20Search/runs/qgmug97p' target=\"_blank\">https://wandb.ai/moxintang-ucb/CS182%20CIFAR-10%20Hyperparameter%20Search/runs/qgmug97p</a><br> View project at: <a href='https://wandb.ai/moxintang-ucb/CS182%20CIFAR-10%20Hyperparameter%20Search' target=\"_blank\">https://wandb.ai/moxintang-ucb/CS182%20CIFAR-10%20Hyperparameter%20Search</a><br>Synced 5 W&B file(s), 0 media file(s), 0 artifact file(s) and 0 other file(s)"
            ],
            "text/plain": [
              "<IPython.core.display.HTML object>"
            ]
          },
          "metadata": {},
          "output_type": "display_data"
        },
        {
          "data": {
            "text/html": [
              "Find logs at: <code>./wandb/run-20251018_061946-qgmug97p/logs</code>"
            ],
            "text/plain": [
              "<IPython.core.display.HTML object>"
            ]
          },
          "metadata": {},
          "output_type": "display_data"
        },
        {
          "name": "stdout",
          "output_type": "stream",
          "text": [
            "Configuration 8 finished with best accuracy: 84.21%\n",
            "--------------------------------------------------\n",
            "Running configuration 9/10: {'architecture': 'BasicConvNet', 'learning_rate': 0.01, 'batch_size': 64, 'epochs': 10, 'optimizer': 'sgd', 'momentum': 0.9, 'weight_decay': 0.0001, 'use_scheduler': True}\n"
          ]
        },
        {
          "data": {
            "text/html": [],
            "text/plain": [
              "<IPython.core.display.HTML object>"
            ]
          },
          "metadata": {},
          "output_type": "display_data"
        },
        {
          "data": {
            "text/html": [
              "Tracking run with wandb version 0.22.2"
            ],
            "text/plain": [
              "<IPython.core.display.HTML object>"
            ]
          },
          "metadata": {},
          "output_type": "display_data"
        },
        {
          "data": {
            "text/html": [
              "Run data is saved locally in <code>/content/cs182fa25_public/hw06/code/wandb/run-20251018_062832-odxkxztn</code>"
            ],
            "text/plain": [
              "<IPython.core.display.HTML object>"
            ]
          },
          "metadata": {},
          "output_type": "display_data"
        },
        {
          "data": {
            "text/html": [
              "Syncing run <strong><a href='https://wandb.ai/moxintang-ucb/CS182%20CIFAR-10%20Hyperparameter%20Search/runs/odxkxztn' target=\"_blank\">stilted-cloud-10</a></strong> to <a href='https://wandb.ai/moxintang-ucb/CS182%20CIFAR-10%20Hyperparameter%20Search' target=\"_blank\">Weights & Biases</a> (<a href='https://wandb.me/developer-guide' target=\"_blank\">docs</a>)<br>"
            ],
            "text/plain": [
              "<IPython.core.display.HTML object>"
            ]
          },
          "metadata": {},
          "output_type": "display_data"
        },
        {
          "data": {
            "text/html": [
              " View project at <a href='https://wandb.ai/moxintang-ucb/CS182%20CIFAR-10%20Hyperparameter%20Search' target=\"_blank\">https://wandb.ai/moxintang-ucb/CS182%20CIFAR-10%20Hyperparameter%20Search</a>"
            ],
            "text/plain": [
              "<IPython.core.display.HTML object>"
            ]
          },
          "metadata": {},
          "output_type": "display_data"
        },
        {
          "data": {
            "text/html": [
              " View run at <a href='https://wandb.ai/moxintang-ucb/CS182%20CIFAR-10%20Hyperparameter%20Search/runs/odxkxztn' target=\"_blank\">https://wandb.ai/moxintang-ucb/CS182%20CIFAR-10%20Hyperparameter%20Search/runs/odxkxztn</a>"
            ],
            "text/plain": [
              "<IPython.core.display.HTML object>"
            ]
          },
          "metadata": {},
          "output_type": "display_data"
        },
        {
          "name": "stdout",
          "output_type": "stream",
          "text": [
            "[1,   200] loss: 2.23501 accuracy: 16.21875\n",
            "[1,   400] loss: 1.93454 accuracy: 28.64844\n",
            "[1,   600] loss: 1.69823 accuracy: 37.82031\n",
            "Epoch 1 Test Accuracy: 43.44%\n",
            "[2,   200] loss: 1.48333 accuracy: 46.27344\n",
            "[2,   400] loss: 1.44140 accuracy: 47.62500\n",
            "[2,   600] loss: 1.39416 accuracy: 49.75000\n",
            "Epoch 2 Test Accuracy: 52.87%\n",
            "[3,   200] loss: 1.28870 accuracy: 53.89062\n",
            "[3,   400] loss: 1.28386 accuracy: 54.51562\n",
            "[3,   600] loss: 1.24409 accuracy: 55.82812\n",
            "Epoch 3 Test Accuracy: 55.52%\n",
            "[4,   200] loss: 1.17692 accuracy: 58.29688\n",
            "[4,   400] loss: 1.15958 accuracy: 58.57031\n",
            "[4,   600] loss: 1.15068 accuracy: 60.09375\n",
            "Epoch 4 Test Accuracy: 58.43%\n",
            "[5,   200] loss: 1.10522 accuracy: 61.16406\n",
            "[5,   400] loss: 1.07702 accuracy: 62.47656\n",
            "[5,   600] loss: 1.09105 accuracy: 61.75000\n",
            "Epoch 5 Test Accuracy: 59.16%\n",
            "[6,   200] loss: 1.00946 accuracy: 64.77344\n",
            "[6,   400] loss: 1.01364 accuracy: 64.58594\n",
            "[6,   600] loss: 1.03573 accuracy: 63.81250\n",
            "Epoch 6 Test Accuracy: 60.00%\n",
            "[7,   200] loss: 0.96449 accuracy: 65.53906\n",
            "[7,   400] loss: 0.95828 accuracy: 66.36719\n",
            "[7,   600] loss: 0.97476 accuracy: 65.79688\n",
            "Epoch 7 Test Accuracy: 63.14%\n",
            "[8,   200] loss: 0.90410 accuracy: 68.18750\n",
            "[8,   400] loss: 0.91870 accuracy: 67.39844\n",
            "[8,   600] loss: 0.92561 accuracy: 66.98438\n",
            "Epoch 8 Test Accuracy: 63.58%\n",
            "[9,   200] loss: 0.84629 accuracy: 69.82812\n",
            "[9,   400] loss: 0.87058 accuracy: 69.26562\n",
            "[9,   600] loss: 0.88093 accuracy: 68.19531\n",
            "Epoch 9 Test Accuracy: 62.49%\n",
            "[10,   200] loss: 0.80474 accuracy: 71.55469\n",
            "[10,   400] loss: 0.83288 accuracy: 70.53125\n",
            "[10,   600] loss: 0.84899 accuracy: 69.57812\n",
            "Epoch 10 Test Accuracy: 62.40%\n"
          ]
        },
        {
          "data": {
            "text/html": [],
            "text/plain": [
              "<IPython.core.display.HTML object>"
            ]
          },
          "metadata": {},
          "output_type": "display_data"
        },
        {
          "data": {
            "text/html": [
              "<br>    <style><br>        .wandb-row {<br>            display: flex;<br>            flex-direction: row;<br>            flex-wrap: wrap;<br>            justify-content: flex-start;<br>            width: 100%;<br>        }<br>        .wandb-col {<br>            display: flex;<br>            flex-direction: column;<br>            flex-basis: 100%;<br>            flex: 1;<br>            padding: 10px;<br>        }<br>    </style><br><div class=\"wandb-row\"><div class=\"wandb-col\"><h3>Run history:</h3><br/><table class=\"wandb\"><tr><td>epoch</td><td>▁▂▃▃▄▅▆▆▇█</td></tr><tr><td>test_accuracy</td><td>▁▄▅▆▆▇████</td></tr><tr><td>test_loss</td><td>█▅▄▃▃▂▁▁▂▂</td></tr><tr><td>train_accuracy</td><td>▂▂▁▄▄▅▄▅▅▆▅▇▆▆▆▆▆▇▆▇▇█▆▅▆▇▆▇▆▇▇▇▇▇▆▇▇▇▇▆</td></tr><tr><td>train_loss</td><td>█▅▇▆▅▆▅▄▄▃▃▃▃▅▃▅▅▄▅▃▄▆▄▂▂▂▂▄▂▂▂▂▄▂▂▂▂▂▁▂</td></tr></table><br/></div><div class=\"wandb-col\"><h3>Run summary:</h3><br/><table class=\"wandb\"><tr><td>best_accuracy</td><td>63.58</td></tr><tr><td>epoch</td><td>10</td></tr><tr><td>test_accuracy</td><td>62.4</td></tr><tr><td>test_loss</td><td>1.11097</td></tr><tr><td>train_accuracy</td><td>62.5</td></tr><tr><td>train_loss</td><td>1.0093</td></tr></table><br/></div></div>"
            ],
            "text/plain": [
              "<IPython.core.display.HTML object>"
            ]
          },
          "metadata": {},
          "output_type": "display_data"
        },
        {
          "data": {
            "text/html": [
              " View run <strong style=\"color:#cdcd00\">stilted-cloud-10</strong> at: <a href='https://wandb.ai/moxintang-ucb/CS182%20CIFAR-10%20Hyperparameter%20Search/runs/odxkxztn' target=\"_blank\">https://wandb.ai/moxintang-ucb/CS182%20CIFAR-10%20Hyperparameter%20Search/runs/odxkxztn</a><br> View project at: <a href='https://wandb.ai/moxintang-ucb/CS182%20CIFAR-10%20Hyperparameter%20Search' target=\"_blank\">https://wandb.ai/moxintang-ucb/CS182%20CIFAR-10%20Hyperparameter%20Search</a><br>Synced 5 W&B file(s), 0 media file(s), 0 artifact file(s) and 0 other file(s)"
            ],
            "text/plain": [
              "<IPython.core.display.HTML object>"
            ]
          },
          "metadata": {},
          "output_type": "display_data"
        },
        {
          "data": {
            "text/html": [
              "Find logs at: <code>./wandb/run-20251018_062832-odxkxztn/logs</code>"
            ],
            "text/plain": [
              "<IPython.core.display.HTML object>"
            ]
          },
          "metadata": {},
          "output_type": "display_data"
        },
        {
          "name": "stdout",
          "output_type": "stream",
          "text": [
            "Configuration 9 finished with best accuracy: 63.58%\n",
            "--------------------------------------------------\n",
            "Running configuration 10/10: {'architecture': 'ResNet18', 'learning_rate': 0.01, 'batch_size': 128, 'epochs': 10, 'optimizer': 'sgd', 'momentum': 0.95, 'weight_decay': 0.0005, 'use_scheduler': True}\n"
          ]
        },
        {
          "data": {
            "text/html": [],
            "text/plain": [
              "<IPython.core.display.HTML object>"
            ]
          },
          "metadata": {},
          "output_type": "display_data"
        },
        {
          "data": {
            "text/html": [
              "Tracking run with wandb version 0.22.2"
            ],
            "text/plain": [
              "<IPython.core.display.HTML object>"
            ]
          },
          "metadata": {},
          "output_type": "display_data"
        },
        {
          "data": {
            "text/html": [
              "Run data is saved locally in <code>/content/cs182fa25_public/hw06/code/wandb/run-20251018_063000-y5uzn0v7</code>"
            ],
            "text/plain": [
              "<IPython.core.display.HTML object>"
            ]
          },
          "metadata": {},
          "output_type": "display_data"
        },
        {
          "data": {
            "text/html": [
              "Syncing run <strong><a href='https://wandb.ai/moxintang-ucb/CS182%20CIFAR-10%20Hyperparameter%20Search/runs/y5uzn0v7' target=\"_blank\">vocal-shadow-11</a></strong> to <a href='https://wandb.ai/moxintang-ucb/CS182%20CIFAR-10%20Hyperparameter%20Search' target=\"_blank\">Weights & Biases</a> (<a href='https://wandb.me/developer-guide' target=\"_blank\">docs</a>)<br>"
            ],
            "text/plain": [
              "<IPython.core.display.HTML object>"
            ]
          },
          "metadata": {},
          "output_type": "display_data"
        },
        {
          "data": {
            "text/html": [
              " View project at <a href='https://wandb.ai/moxintang-ucb/CS182%20CIFAR-10%20Hyperparameter%20Search' target=\"_blank\">https://wandb.ai/moxintang-ucb/CS182%20CIFAR-10%20Hyperparameter%20Search</a>"
            ],
            "text/plain": [
              "<IPython.core.display.HTML object>"
            ]
          },
          "metadata": {},
          "output_type": "display_data"
        },
        {
          "data": {
            "text/html": [
              " View run at <a href='https://wandb.ai/moxintang-ucb/CS182%20CIFAR-10%20Hyperparameter%20Search/runs/y5uzn0v7' target=\"_blank\">https://wandb.ai/moxintang-ucb/CS182%20CIFAR-10%20Hyperparameter%20Search/runs/y5uzn0v7</a>"
            ],
            "text/plain": [
              "<IPython.core.display.HTML object>"
            ]
          },
          "metadata": {},
          "output_type": "display_data"
        },
        {
          "name": "stdout",
          "output_type": "stream",
          "text": [
            "[1,   200] loss: 1.70425 accuracy: 37.07422\n",
            "Epoch 1 Test Accuracy: 53.56%\n",
            "[2,   200] loss: 1.00847 accuracy: 64.25000\n",
            "Epoch 2 Test Accuracy: 64.81%\n",
            "[3,   200] loss: 0.67692 accuracy: 76.42578\n",
            "Epoch 3 Test Accuracy: 67.89%\n",
            "[4,   200] loss: 0.49640 accuracy: 82.91016\n",
            "Epoch 4 Test Accuracy: 67.43%\n",
            "[5,   200] loss: 0.36238 accuracy: 87.39062\n",
            "Epoch 5 Test Accuracy: 76.16%\n",
            "[6,   200] loss: 0.23666 accuracy: 91.83203\n",
            "Epoch 6 Test Accuracy: 77.89%\n",
            "[7,   200] loss: 0.16029 accuracy: 94.57031\n",
            "Epoch 7 Test Accuracy: 77.68%\n",
            "[8,   200] loss: 0.12126 accuracy: 95.86328\n",
            "Epoch 8 Test Accuracy: 74.34%\n",
            "[9,   200] loss: 0.05339 accuracy: 98.52344\n",
            "Epoch 9 Test Accuracy: 83.95%\n",
            "[10,   200] loss: 0.00916 accuracy: 99.92969\n",
            "Epoch 10 Test Accuracy: 84.95%\n"
          ]
        },
        {
          "data": {
            "text/html": [],
            "text/plain": [
              "<IPython.core.display.HTML object>"
            ]
          },
          "metadata": {},
          "output_type": "display_data"
        },
        {
          "data": {
            "text/html": [
              "<br>    <style><br>        .wandb-row {<br>            display: flex;<br>            flex-direction: row;<br>            flex-wrap: wrap;<br>            justify-content: flex-start;<br>            width: 100%;<br>        }<br>        .wandb-col {<br>            display: flex;<br>            flex-direction: column;<br>            flex-basis: 100%;<br>            flex: 1;<br>            padding: 10px;<br>        }<br>    </style><br><div class=\"wandb-row\"><div class=\"wandb-col\"><h3>Run history:</h3><br/><table class=\"wandb\"><tr><td>epoch</td><td>▁▂▃▃▄▅▆▆▇█</td></tr><tr><td>test_accuracy</td><td>▁▄▄▄▆▆▆▆██</td></tr><tr><td>test_loss</td><td>█▅▅▆▃▃▃▅▁▁</td></tr><tr><td>train_accuracy</td><td>▁▂▂▂▄▆▆▆▆▆▇▆▆▆▆▆▇▇▆▇▇▇█▇▇█▇▇▇▇███▇██████</td></tr><tr><td>train_loss</td><td>█▇▇▆▆▄▅▄▅▄▃▃▃▃▃▃▂▂▃▂▃▂▂▂▂▂▂▂▁▁▁▂▂▁▁▁▁▁▁▁</td></tr></table><br/></div><div class=\"wandb-col\"><h3>Run summary:</h3><br/><table class=\"wandb\"><tr><td>best_accuracy</td><td>84.95</td></tr><tr><td>epoch</td><td>10</td></tr><tr><td>test_accuracy</td><td>84.95</td></tr><tr><td>test_loss</td><td>0.53108</td></tr><tr><td>train_accuracy</td><td>100</td></tr><tr><td>train_loss</td><td>0.0102</td></tr></table><br/></div></div>"
            ],
            "text/plain": [
              "<IPython.core.display.HTML object>"
            ]
          },
          "metadata": {},
          "output_type": "display_data"
        },
        {
          "data": {
            "text/html": [
              " View run <strong style=\"color:#cdcd00\">vocal-shadow-11</strong> at: <a href='https://wandb.ai/moxintang-ucb/CS182%20CIFAR-10%20Hyperparameter%20Search/runs/y5uzn0v7' target=\"_blank\">https://wandb.ai/moxintang-ucb/CS182%20CIFAR-10%20Hyperparameter%20Search/runs/y5uzn0v7</a><br> View project at: <a href='https://wandb.ai/moxintang-ucb/CS182%20CIFAR-10%20Hyperparameter%20Search' target=\"_blank\">https://wandb.ai/moxintang-ucb/CS182%20CIFAR-10%20Hyperparameter%20Search</a><br>Synced 5 W&B file(s), 0 media file(s), 0 artifact file(s) and 0 other file(s)"
            ],
            "text/plain": [
              "<IPython.core.display.HTML object>"
            ]
          },
          "metadata": {},
          "output_type": "display_data"
        },
        {
          "data": {
            "text/html": [
              "Find logs at: <code>./wandb/run-20251018_063000-y5uzn0v7/logs</code>"
            ],
            "text/plain": [
              "<IPython.core.display.HTML object>"
            ]
          },
          "metadata": {},
          "output_type": "display_data"
        },
        {
          "name": "stdout",
          "output_type": "stream",
          "text": [
            "Configuration 10 finished with best accuracy: 84.95%\n",
            "--------------------------------------------------\n",
            "\n",
            "Best hyperparameter configurations:\n",
            "1. Accuracy: 84.95%, Config: {'architecture': 'ResNet18', 'learning_rate': 0.01, 'batch_size': 128, 'epochs': 10, 'optimizer': 'sgd', 'momentum': 0.95, 'weight_decay': 0.0005, 'use_scheduler': True}\n",
            "2. Accuracy: 84.21%, Config: {'architecture': 'ResNet18', 'learning_rate': 0.0005, 'batch_size': 32, 'epochs': 10, 'optimizer': 'adam', 'weight_decay': 0.0001}\n",
            "3. Accuracy: 83.55%, Config: {'architecture': 'ResNet18', 'learning_rate': 0.001, 'batch_size': 64, 'epochs': 10, 'optimizer': 'adam'}\n"
          ]
        }
      ],
      "source": [
        "# Run each configuration and track results\n",
        "results = []\n",
        "for i, config in enumerate(hyperparameter_configs):\n",
        "    print(f\"Running configuration {i+1}/10: {config}\")\n",
        "    accuracy = run(config)\n",
        "    results.append((config, accuracy))\n",
        "    print(f\"Configuration {i+1} finished with best accuracy: {accuracy:.2f}%\")\n",
        "    print(\"-\" * 50)\n",
        "\n",
        "# Sort and display results\n",
        "results.sort(key=lambda x: x[1], reverse=True)\n",
        "print(\"\\nBest hyperparameter configurations:\")\n",
        "for i, (config, accuracy) in enumerate(results[:3]):\n",
        "    print(f\"{i+1}. Accuracy: {accuracy:.2f}%, Config: {config}\")\n"
      ]
    },
    {
      "cell_type": "markdown",
      "metadata": {
        "id": "KGMiZJOr1n0_"
      },
      "source": [
        "This software/tutorial is based on PyTorch, an open-source project available at https://github.com/pytorch/tutorials/\n",
        "\n",
        "There is a BSD 3-Clause License as seen here: https://github.com/pytorch/tutorials/blob/main/LICENSE"
      ]
    },
    {
      "cell_type": "markdown",
      "metadata": {
        "id": "h8GCemrh1n0_"
      },
      "source": []
    }
  ],
  "metadata": {
    "accelerator": "GPU",
    "colab": {
      "gpuType": "A100",
      "include_colab_link": true,
      "provenance": []
    },
    "kernelspec": {
      "display_name": "base",
      "language": "python",
      "name": "python3"
    },
    "language_info": {
      "codemirror_mode": {
        "name": "ipython",
        "version": 3
      },
      "file_extension": ".py",
      "mimetype": "text/x-python",
      "name": "python",
      "nbconvert_exporter": "python",
      "pygments_lexer": "ipython3",
      "version": "3.13.5"
    }
  },
  "nbformat": 4,
  "nbformat_minor": 0
}
