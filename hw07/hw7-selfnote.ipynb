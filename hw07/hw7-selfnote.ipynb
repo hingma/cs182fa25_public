{
 "cells": [
  {
   "cell_type": "markdown",
   "id": "5bca2c06",
   "metadata": {},
   "source": [
    "## Why Top 3 Vectors?\n",
    "\n",
    "**The number of eigenvectors = number of desired clusters**\n",
    "\n",
    "In spectral clustering theory:\n",
    "\n",
    "1. **Graph Structure**: Our matrix M represents a graph where each data point is a node, and the edge weights represent similarity between points\n",
    "\n",
    "2. **Eigenvalue Theory**: The top eigenvectors (corresponding to largest eigenvalues) of the normalized adjacency matrix encode the cluster structure:\n",
    "   - The **1st eigenvector** typically captures the overall connectivity\n",
    "   - The **2nd and 3rd eigenvectors** reveal the main divisions/separations in the data\n",
    "   - For k clusters, we need the **top k eigenvectors**\n",
    "\n",
    "3. **Cluster Information**: Each eigenvector provides a different \"view\" of how to separate the data:\n",
    "   - Together, the top k eigenvectors create a new k-dimensional space where clusters become more separable\n",
    "   - This new space often makes clusters more \"spherical\" which K-means can handle better\n",
    "\n",
    "## Theoretical Justification:\n",
    "\n",
    "```python\n",
    "# If we have k=3 clusters, we take top 3 eigenvectors because:\n",
    "# - 1st eigenvector: captures main connectivity pattern\n",
    "# - 2nd eigenvector: captures first major division  \n",
    "# - 3rd eigenvector: captures second major division\n",
    "# Together they span the \"cluster subspace\"\n",
    "```\n",
    "\n",
    "## What if we chose different numbers?\n",
    "\n",
    "- **Too few vectors (k=1 or k=2)**: We lose important cluster information\n",
    "- **Too many vectors (k=5 or k=10)**: We include noise and less meaningful patterns\n",
    "\n",
    "So yes, **the choice of 3 vectors is specifically because we want to find 3 clusters**. This is a fundamental principle in spectral clustering - the dimensionality of the embedding space should match the number of clusters you're looking for."
   ]
  }
 ],
 "metadata": {
  "language_info": {
   "name": "python"
  }
 },
 "nbformat": 4,
 "nbformat_minor": 5
}
